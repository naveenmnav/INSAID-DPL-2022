{
 "cells": [
  {
   "cell_type": "markdown",
   "id": "e8de0fb7",
   "metadata": {},
   "source": [
    "## <center>DPL Match Winner Prediction</center>"
   ]
  },
  {
   "cell_type": "markdown",
   "id": "f683da0d",
   "metadata": {},
   "source": [
    "---\n",
    "\n",
    "# **Table of Contents**\n",
    "\n",
    "---\n",
    "\n",
    "1. [**Introduction**](#Section1)<br>\n",
    "2. [**Problem Statement**](#Section2)<br>\n",
    "3. [**Installing & Importing Libraries**](#Section3)<br>\n",
    "4. [**Data Acquisition & Description**](#Section4)<br>\n",
    "\n",
    "  - **4.1** [**Data Acquisition**](#Section41)\n",
    "  - **4.2** [**Data Description**](#Section42)\n",
    "  - **4.3** [**Data Information**](#Section43)\n",
    "\n",
    "5. [**Data Pre-Processing**](#Section5)<br>\n",
    " \n",
    "  - **5.1** [**Handling of Missing Data**](#Section51)\n",
    "  - **5.2** [**Handling of Redundant Data**](#Section52)\n",
    "\n",
    "6. [**Exploratory Data Analysis**](#Section6)<br>\n",
    "\n",
    "\n",
    "7. [**Train Test Split**](#Section8)<br>\n",
    "\n",
    "8. [**Logistic Regression**](#Section8)<br>\n",
    "\n",
    "9. [**Decision Tree**](#Section9)<br>\n",
    "\n",
    "10. [**Random Forest Classifier**](#Section10)<br>\n",
    "\n",
    "11. [**Randomized Search CV**](#Section11)<br>\n",
    "\n",
    "12. [**K-Neighbour Classifier**](#Section12)<br>\n",
    "\n",
    "13. [**Naive Bayes**](#Section13)<br>\n",
    "\n",
    "14. [**AUC and RUC Model Evaluation**](#Section14)<br>\n",
    "\n",
    "15. [**Analysis on Unseen Data**](#Section15)<br>\n",
    "\n",
    "16. [**Random Forest on Unseen Data**](#Section16)<br>\n",
    "\n",
    "17. [**Model Evauation on Unseen Data**](#Section17)<br>\n",
    "\n",
    "---"
   ]
  },
  {
   "cell_type": "markdown",
   "id": "d5b7abcd",
   "metadata": {},
   "source": [
    "---\n",
    "<a name = Section1></a>\n",
    "# **1. Introduction**\n",
    "---\n",
    "\n",
    "\n",
    "- The client for this project is One-shot Association.\n",
    "- INSAID Corp is an Indian analytics company.\n",
    "- Established in 2018, it is one of the top analytics companies in India.\n",
    "- They provide regular maintenance for their clients and customers which enables them to make their products more robust and their services promote longevity.\n",
    "- With a recent project requirement from One-shot Association, the official partners of DPL, INSAID Corp has boarded a project that requires making an automatic system that can predict the winner of the Data Premier League"
   ]
  },
  {
   "cell_type": "markdown",
   "id": "837d2a71",
   "metadata": {},
   "source": [
    "---\n",
    "<a name = Section2></a>\n",
    "# **2. Problem Statement**\n",
    "---\n",
    "\n",
    "-  The task is to build a multi-label classification model using the dataset.\n",
    "-  We need to build the best possible model.\n",
    "\n",
    "\n",
    "\n"
   ]
  },
  {
   "cell_type": "markdown",
   "id": "043fbbc6",
   "metadata": {},
   "source": [
    "---\n",
    "<a id = Section3></a>\n",
    "# **3. Installing & Importing Libraries**\n",
    "---\n",
    "\n",
    "\n",
    "- This section is emphasised on installing and importing the necessary libraries that will be required.\n",
    "\n"
   ]
  },
  {
   "cell_type": "code",
   "execution_count": 1,
   "id": "303b5d73",
   "metadata": {},
   "outputs": [],
   "source": [
    "import numpy as np\n",
    "import pandas as pd\n",
    "import matplotlib.pyplot as plt\n",
    "%matplotlib inline\n",
    "import warnings\n",
    "warnings.filterwarnings('ignore')     # To suppress all the warnings in the notebook.\n",
    "import seaborn as sns"
   ]
  },
  {
   "cell_type": "markdown",
   "id": "4519a29a",
   "metadata": {},
   "source": [
    "---\n",
    "<a name = Section4></a>\n",
    "# **4. Data Acquisition & Description**\n",
    "---\n",
    "\n",
    "- We are given the **Train Set**.\n",
    "\n",
    "- The Train Set parameters are,\n",
    "\n",
    "|Id|Parameter Name|Description|\n",
    "|:--|:--|:--|\n",
    "|01 | id\t               | Unique identifier |\n",
    "|02 | netural_venue        | Venue of the game. stadium 1: 0 and stadium 2: 1|\n",
    "|03 | team1                | Team 1 Encoded as Kolkata Superstars : 0 ,Chennai Strikers : 1, Bangalore Royals : 2 , Mumbai Lords : 3|\n",
    "|04 | team2                | Team 2 Encoded as Kolkata Superstars : 0 ,Chennai Strikers : 1, Bangalore Royals : 2 , Mumbai Lords : 3 |\n",
    "|05 | toss_winner          | Winner of the toss. Assuming Team is Encoded as Kolkata Superstars : 0 ,Chennai Strikers : 1, Bangalore Royals : 2 , Mumbai Lords : 3 |\n",
    "|06 | toss_decision        | Decision made by toss winning captain.  0 as Fielding and 1 as Batting | \n",
    "|07 | result_margin        | By How many runs the winning team won the match  |\n",
    "|08 | Day of week            | The day of the week encoded as Sunday:1, Monday:2, Tuesday:3, Wednesday:4, Thursday:5, Friday:6, Saturday:7 |\n",
    "|09 | Day of the month     | The day of the month |\n",
    "|10 | Month                | The month of the record. |\n",
    "|11 | Year                 | The year of the record |\n",
    "|12 | winner               | The winner of the match|\n"
   ]
  },
  {
   "cell_type": "markdown",
   "id": "425dcdb6",
   "metadata": {},
   "source": [
    "<a name = Section41></a>\n",
    "### 4.1 Data Acquisition\n",
    "\n",
    "\n",
    " "
   ]
  },
  {
   "cell_type": "code",
   "execution_count": 2,
   "id": "062e5e7c",
   "metadata": {},
   "outputs": [],
   "source": [
    "dataset = pd.read_csv(\"https://raw.githubusercontent.com/naveenmnav/INSAID-DPL-2022/main/Training_Data.csv\")"
   ]
  },
  {
   "cell_type": "code",
   "execution_count": 3,
   "id": "c2bb0737",
   "metadata": {},
   "outputs": [
    {
     "data": {
      "text/plain": [
       "array([1, 0, 3, 2], dtype=int64)"
      ]
     },
     "execution_count": 3,
     "metadata": {},
     "output_type": "execute_result"
    }
   ],
   "source": [
    "dataset['toss_winner'].unique()"
   ]
  },
  {
   "cell_type": "markdown",
   "id": "eb3fc891",
   "metadata": {},
   "source": [
    "<a name = Section42></a>\n",
    "### 4.2 Data Description\n",
    "\n",
    "\n",
    " "
   ]
  },
  {
   "cell_type": "code",
   "execution_count": 4,
   "id": "d6c72974",
   "metadata": {
    "scrolled": true
   },
   "outputs": [
    {
     "data": {
      "text/html": [
       "<div>\n",
       "<style scoped>\n",
       "    .dataframe tbody tr th:only-of-type {\n",
       "        vertical-align: middle;\n",
       "    }\n",
       "\n",
       "    .dataframe tbody tr th {\n",
       "        vertical-align: top;\n",
       "    }\n",
       "\n",
       "    .dataframe thead th {\n",
       "        text-align: right;\n",
       "    }\n",
       "</style>\n",
       "<table border=\"1\" class=\"dataframe\">\n",
       "  <thead>\n",
       "    <tr style=\"text-align: right;\">\n",
       "      <th></th>\n",
       "      <th>id</th>\n",
       "      <th>neutral_venue</th>\n",
       "      <th>team1</th>\n",
       "      <th>team2</th>\n",
       "      <th>toss_winner</th>\n",
       "      <th>toss_decision</th>\n",
       "      <th>result_margin</th>\n",
       "      <th>Day_of_Week</th>\n",
       "      <th>Day_of_month</th>\n",
       "      <th>Month</th>\n",
       "      <th>Year</th>\n",
       "      <th>winner</th>\n",
       "    </tr>\n",
       "  </thead>\n",
       "  <tbody>\n",
       "    <tr>\n",
       "      <th>count</th>\n",
       "      <td>6.520000e+02</td>\n",
       "      <td>652.000000</td>\n",
       "      <td>652.000000</td>\n",
       "      <td>652.000000</td>\n",
       "      <td>652.000000</td>\n",
       "      <td>652.000000</td>\n",
       "      <td>652.000000</td>\n",
       "      <td>652.000000</td>\n",
       "      <td>652.000000</td>\n",
       "      <td>652.000000</td>\n",
       "      <td>652.000000</td>\n",
       "      <td>652.000000</td>\n",
       "    </tr>\n",
       "    <tr>\n",
       "      <th>mean</th>\n",
       "      <td>7.552707e+05</td>\n",
       "      <td>0.087423</td>\n",
       "      <td>0.628834</td>\n",
       "      <td>0.656442</td>\n",
       "      <td>0.650307</td>\n",
       "      <td>0.406442</td>\n",
       "      <td>17.120457</td>\n",
       "      <td>3.987730</td>\n",
       "      <td>15.604294</td>\n",
       "      <td>4.814417</td>\n",
       "      <td>2013.920245</td>\n",
       "      <td>0.579755</td>\n",
       "    </tr>\n",
       "    <tr>\n",
       "      <th>std</th>\n",
       "      <td>3.059656e+05</td>\n",
       "      <td>0.282671</td>\n",
       "      <td>0.722874</td>\n",
       "      <td>0.736416</td>\n",
       "      <td>0.739774</td>\n",
       "      <td>0.491546</td>\n",
       "      <td>21.579157</td>\n",
       "      <td>2.198974</td>\n",
       "      <td>8.205119</td>\n",
       "      <td>1.556190</td>\n",
       "      <td>3.661535</td>\n",
       "      <td>0.712897</td>\n",
       "    </tr>\n",
       "    <tr>\n",
       "      <th>min</th>\n",
       "      <td>3.359820e+05</td>\n",
       "      <td>0.000000</td>\n",
       "      <td>0.000000</td>\n",
       "      <td>0.000000</td>\n",
       "      <td>0.000000</td>\n",
       "      <td>0.000000</td>\n",
       "      <td>1.000000</td>\n",
       "      <td>1.000000</td>\n",
       "      <td>1.000000</td>\n",
       "      <td>3.000000</td>\n",
       "      <td>2008.000000</td>\n",
       "      <td>0.000000</td>\n",
       "    </tr>\n",
       "    <tr>\n",
       "      <th>25%</th>\n",
       "      <td>5.012205e+05</td>\n",
       "      <td>0.000000</td>\n",
       "      <td>0.000000</td>\n",
       "      <td>0.000000</td>\n",
       "      <td>0.000000</td>\n",
       "      <td>0.000000</td>\n",
       "      <td>6.000000</td>\n",
       "      <td>2.000000</td>\n",
       "      <td>9.000000</td>\n",
       "      <td>4.000000</td>\n",
       "      <td>2011.000000</td>\n",
       "      <td>0.000000</td>\n",
       "    </tr>\n",
       "    <tr>\n",
       "      <th>50%</th>\n",
       "      <td>7.292930e+05</td>\n",
       "      <td>0.000000</td>\n",
       "      <td>1.000000</td>\n",
       "      <td>1.000000</td>\n",
       "      <td>1.000000</td>\n",
       "      <td>0.000000</td>\n",
       "      <td>8.000000</td>\n",
       "      <td>4.000000</td>\n",
       "      <td>16.000000</td>\n",
       "      <td>5.000000</td>\n",
       "      <td>2014.000000</td>\n",
       "      <td>0.000000</td>\n",
       "    </tr>\n",
       "    <tr>\n",
       "      <th>75%</th>\n",
       "      <td>1.082627e+06</td>\n",
       "      <td>0.000000</td>\n",
       "      <td>1.000000</td>\n",
       "      <td>1.000000</td>\n",
       "      <td>1.000000</td>\n",
       "      <td>1.000000</td>\n",
       "      <td>19.000000</td>\n",
       "      <td>6.000000</td>\n",
       "      <td>22.000000</td>\n",
       "      <td>5.000000</td>\n",
       "      <td>2017.000000</td>\n",
       "      <td>1.000000</td>\n",
       "    </tr>\n",
       "    <tr>\n",
       "      <th>max</th>\n",
       "      <td>1.237181e+06</td>\n",
       "      <td>1.000000</td>\n",
       "      <td>3.000000</td>\n",
       "      <td>3.000000</td>\n",
       "      <td>3.000000</td>\n",
       "      <td>1.000000</td>\n",
       "      <td>146.000000</td>\n",
       "      <td>7.000000</td>\n",
       "      <td>31.000000</td>\n",
       "      <td>11.000000</td>\n",
       "      <td>2020.000000</td>\n",
       "      <td>3.000000</td>\n",
       "    </tr>\n",
       "  </tbody>\n",
       "</table>\n",
       "</div>"
      ],
      "text/plain": [
       "                 id  neutral_venue       team1       team2  toss_winner  \\\n",
       "count  6.520000e+02     652.000000  652.000000  652.000000   652.000000   \n",
       "mean   7.552707e+05       0.087423    0.628834    0.656442     0.650307   \n",
       "std    3.059656e+05       0.282671    0.722874    0.736416     0.739774   \n",
       "min    3.359820e+05       0.000000    0.000000    0.000000     0.000000   \n",
       "25%    5.012205e+05       0.000000    0.000000    0.000000     0.000000   \n",
       "50%    7.292930e+05       0.000000    1.000000    1.000000     1.000000   \n",
       "75%    1.082627e+06       0.000000    1.000000    1.000000     1.000000   \n",
       "max    1.237181e+06       1.000000    3.000000    3.000000     3.000000   \n",
       "\n",
       "       toss_decision  result_margin  Day_of_Week  Day_of_month       Month  \\\n",
       "count     652.000000     652.000000   652.000000    652.000000  652.000000   \n",
       "mean        0.406442      17.120457     3.987730     15.604294    4.814417   \n",
       "std         0.491546      21.579157     2.198974      8.205119    1.556190   \n",
       "min         0.000000       1.000000     1.000000      1.000000    3.000000   \n",
       "25%         0.000000       6.000000     2.000000      9.000000    4.000000   \n",
       "50%         0.000000       8.000000     4.000000     16.000000    5.000000   \n",
       "75%         1.000000      19.000000     6.000000     22.000000    5.000000   \n",
       "max         1.000000     146.000000     7.000000     31.000000   11.000000   \n",
       "\n",
       "              Year      winner  \n",
       "count   652.000000  652.000000  \n",
       "mean   2013.920245    0.579755  \n",
       "std       3.661535    0.712897  \n",
       "min    2008.000000    0.000000  \n",
       "25%    2011.000000    0.000000  \n",
       "50%    2014.000000    0.000000  \n",
       "75%    2017.000000    1.000000  \n",
       "max    2020.000000    3.000000  "
      ]
     },
     "execution_count": 4,
     "metadata": {},
     "output_type": "execute_result"
    }
   ],
   "source": [
    "dataset.describe(include='all')"
   ]
  },
  {
   "cell_type": "markdown",
   "id": "6dfe0ced",
   "metadata": {},
   "source": [
    "<a name = Section43></a>\n",
    "### **4.3 Data Information**\n",
    "\n",
    "- In this section we will see the **information about the types of features**."
   ]
  },
  {
   "cell_type": "code",
   "execution_count": 5,
   "id": "1a38a274",
   "metadata": {},
   "outputs": [
    {
     "name": "stdout",
     "output_type": "stream",
     "text": [
      "<class 'pandas.core.frame.DataFrame'>\n",
      "RangeIndex: 652 entries, 0 to 651\n",
      "Data columns (total 12 columns):\n",
      " #   Column         Non-Null Count  Dtype  \n",
      "---  ------         --------------  -----  \n",
      " 0   id             652 non-null    int64  \n",
      " 1   neutral_venue  652 non-null    int64  \n",
      " 2   team1          652 non-null    int64  \n",
      " 3   team2          652 non-null    int64  \n",
      " 4   toss_winner    652 non-null    int64  \n",
      " 5   toss_decision  652 non-null    int64  \n",
      " 6   result_margin  652 non-null    float64\n",
      " 7   Day_of_Week    652 non-null    int64  \n",
      " 8   Day_of_month   652 non-null    int64  \n",
      " 9   Month          652 non-null    int64  \n",
      " 10  Year           652 non-null    int64  \n",
      " 11  winner         652 non-null    float64\n",
      "dtypes: float64(2), int64(10)\n",
      "memory usage: 61.2 KB\n"
     ]
    }
   ],
   "source": [
    "dataset.info()"
   ]
  },
  {
   "cell_type": "markdown",
   "id": "aa6f9705",
   "metadata": {},
   "source": [
    "<a name = Section5></a>\n",
    "\n",
    "---\n",
    "# **5. Data Pre-Processing**\n",
    "---"
   ]
  },
  {
   "cell_type": "markdown",
   "id": "c5bd3336",
   "metadata": {},
   "source": [
    "<a name = Section51></a>\n",
    "### **5.1  Handling of Redundant Data**\n",
    "\n",
    "- In this section, we will see if any redundant data are present in the dataset."
   ]
  },
  {
   "cell_type": "code",
   "execution_count": 6,
   "id": "ccbd8d39",
   "metadata": {},
   "outputs": [
    {
     "name": "stdout",
     "output_type": "stream",
     "text": [
      "Has the Dataset cointains any Duplicate/ Redundant values ?   False\n"
     ]
    }
   ],
   "source": [
    "print('Has the Dataset cointains any Duplicate/ Redundant values ?  ',dataset.duplicated().any())"
   ]
  },
  {
   "cell_type": "markdown",
   "id": "29d8ff19",
   "metadata": {},
   "source": [
    "<a name = Section52></a>\n",
    "### **5.2  Handling of Missing Data**\n",
    "\n",
    "- In this section, we will identify missing data and check the proportion of it and take appropriate measures."
   ]
  },
  {
   "cell_type": "code",
   "execution_count": 7,
   "id": "9a1e8594",
   "metadata": {},
   "outputs": [
    {
     "data": {
      "text/html": [
       "<div>\n",
       "<style scoped>\n",
       "    .dataframe tbody tr th:only-of-type {\n",
       "        vertical-align: middle;\n",
       "    }\n",
       "\n",
       "    .dataframe tbody tr th {\n",
       "        vertical-align: top;\n",
       "    }\n",
       "\n",
       "    .dataframe thead th {\n",
       "        text-align: right;\n",
       "    }\n",
       "</style>\n",
       "<table border=\"1\" class=\"dataframe\">\n",
       "  <thead>\n",
       "    <tr style=\"text-align: right;\">\n",
       "      <th></th>\n",
       "      <th>Null Frequency</th>\n",
       "      <th>Missing Percentage</th>\n",
       "    </tr>\n",
       "  </thead>\n",
       "  <tbody>\n",
       "    <tr>\n",
       "      <th>id</th>\n",
       "      <td>0</td>\n",
       "      <td>0.0</td>\n",
       "    </tr>\n",
       "    <tr>\n",
       "      <th>neutral_venue</th>\n",
       "      <td>0</td>\n",
       "      <td>0.0</td>\n",
       "    </tr>\n",
       "    <tr>\n",
       "      <th>team1</th>\n",
       "      <td>0</td>\n",
       "      <td>0.0</td>\n",
       "    </tr>\n",
       "    <tr>\n",
       "      <th>team2</th>\n",
       "      <td>0</td>\n",
       "      <td>0.0</td>\n",
       "    </tr>\n",
       "    <tr>\n",
       "      <th>toss_winner</th>\n",
       "      <td>0</td>\n",
       "      <td>0.0</td>\n",
       "    </tr>\n",
       "    <tr>\n",
       "      <th>toss_decision</th>\n",
       "      <td>0</td>\n",
       "      <td>0.0</td>\n",
       "    </tr>\n",
       "    <tr>\n",
       "      <th>result_margin</th>\n",
       "      <td>0</td>\n",
       "      <td>0.0</td>\n",
       "    </tr>\n",
       "    <tr>\n",
       "      <th>Day_of_Week</th>\n",
       "      <td>0</td>\n",
       "      <td>0.0</td>\n",
       "    </tr>\n",
       "    <tr>\n",
       "      <th>Day_of_month</th>\n",
       "      <td>0</td>\n",
       "      <td>0.0</td>\n",
       "    </tr>\n",
       "    <tr>\n",
       "      <th>Month</th>\n",
       "      <td>0</td>\n",
       "      <td>0.0</td>\n",
       "    </tr>\n",
       "    <tr>\n",
       "      <th>Year</th>\n",
       "      <td>0</td>\n",
       "      <td>0.0</td>\n",
       "    </tr>\n",
       "    <tr>\n",
       "      <th>winner</th>\n",
       "      <td>0</td>\n",
       "      <td>0.0</td>\n",
       "    </tr>\n",
       "  </tbody>\n",
       "</table>\n",
       "</div>"
      ],
      "text/plain": [
       "               Null Frequency  Missing Percentage\n",
       "id                          0                 0.0\n",
       "neutral_venue               0                 0.0\n",
       "team1                       0                 0.0\n",
       "team2                       0                 0.0\n",
       "toss_winner                 0                 0.0\n",
       "toss_decision               0                 0.0\n",
       "result_margin               0                 0.0\n",
       "Day_of_Week                 0                 0.0\n",
       "Day_of_month                0                 0.0\n",
       "Month                       0                 0.0\n",
       "Year                        0                 0.0\n",
       "winner                      0                 0.0"
      ]
     },
     "execution_count": 7,
     "metadata": {},
     "output_type": "execute_result"
    }
   ],
   "source": [
    "null_frame = pd.DataFrame(index = dataset.columns.values)\n",
    "null_frame['Null Frequency'] = dataset.isnull().sum().values\n",
    "percent = dataset.isnull().sum().values/dataset.shape[0]\n",
    "null_frame['Missing Percentage'] = np.round(percent, decimals = 4) * 100\n",
    "null_frame"
   ]
  },
  {
   "cell_type": "markdown",
   "id": "a19fa0a2",
   "metadata": {},
   "source": [
    "<a name = Section6></a>\n",
    "\n",
    "---\n",
    "# **6. Exploratory Data Analysis**\n",
    "---"
   ]
  },
  {
   "cell_type": "markdown",
   "id": "f1a7f0c6",
   "metadata": {},
   "source": [
    "<a name = Section61></a>\n",
    "**<h4>Question:** Which team has won the most tosses?</h4>"
   ]
  },
  {
   "cell_type": "code",
   "execution_count": 8,
   "id": "b4f09bfe",
   "metadata": {},
   "outputs": [
    {
     "data": {
      "text/plain": [
       "toss_winner\n",
       "0              311\n",
       "1              279\n",
       "2               41\n",
       "3               21\n",
       "dtype: int64"
      ]
     },
     "execution_count": 8,
     "metadata": {},
     "output_type": "execute_result"
    }
   ],
   "source": [
    "dataset[['toss_winner']].value_counts()"
   ]
  },
  {
   "cell_type": "code",
   "execution_count": 9,
   "id": "e06febf6",
   "metadata": {},
   "outputs": [
    {
     "data": {
      "image/png": "[encoded data removed]",
      "text/plain": [
       "<Figure size 1080x504 with 1 Axes>"
      ]
     },
     "metadata": {},
     "output_type": "display_data"
    }
   ],
   "source": [
    "fig = plt.figure(figsize = (15,7))\n",
    "\n",
    "dataset['toss_winner'].value_counts().plot(kind = 'pie', autopct = '%3.1f%%', legend = True)\n",
    "\n",
    "plt.xlabel('Toss Winner' ,fontsize=26)\n",
    "\n",
    "plt.show()"
   ]
  },
  {
   "cell_type": "markdown",
   "id": "4c25e445",
   "metadata": {},
   "source": [
    "**Observations**\n",
    "\n",
    "- Team 0 which is **Kolkata Superstars** have won the most tosses(311) in the tournament followed by Team 1 which is **Chennai Strikers**(279)\n",
    "\n",
    "- Mumbai Lords have been the unluckiest team in terms of winning the toss(21)"
   ]
  },
  {
   "cell_type": "markdown",
   "id": "4657e4d9",
   "metadata": {},
   "source": [
    "<a name = Section62></a>\n",
    "**<h4>Question:**What was the decision taken by the toss winning captain?</h4>"
   ]
  },
  {
   "cell_type": "code",
   "execution_count": 10,
   "id": "3810715d",
   "metadata": {},
   "outputs": [
    {
     "data": {
      "image/png": "[encoded data removed]",
      "text/plain": [
       "<Figure size 648x648 with 1 Axes>"
      ]
     },
     "metadata": {},
     "output_type": "display_data"
    }
   ],
   "source": [
    "fig = plt.figure(figsize=(15, 7))\n",
    "\n",
    "fuel_df = dataset['toss_decision'].value_counts().plot(kind = 'pie',  autopct='%3.1f%%',figsize=(9, 9), wedgeprops=dict(width=0.15),fontsize=12, startangle=50 , shadow=True,legend=True)\n",
    "plt.xlabel(xlabel='Toss Decision', fontsize=26)\n",
    "\n",
    "plt.show()"
   ]
  },
  {
   "cell_type": "code",
   "execution_count": 11,
   "id": "17b64b74",
   "metadata": {},
   "outputs": [
    {
     "data": {
      "text/plain": [
       "0    387\n",
       "1    265\n",
       "Name: toss_decision, dtype: int64"
      ]
     },
     "execution_count": 11,
     "metadata": {},
     "output_type": "execute_result"
    }
   ],
   "source": [
    "dataset['toss_decision'].value_counts()"
   ]
  },
  {
   "cell_type": "markdown",
   "id": "88ff7f69",
   "metadata": {},
   "source": [
    "**Observations:**\n",
    "\n",
    "- we can see when a captain wins the toss, 59.4% of the times, they are fielding first"
   ]
  },
  {
   "cell_type": "markdown",
   "id": "dea9ed81",
   "metadata": {},
   "source": [
    "<a name = Section63></a>\n",
    "**<h4>Question:** What is the relationship between the toss and the match result?</h4>"
   ]
  },
  {
   "cell_type": "code",
   "execution_count": 12,
   "id": "22b192ee",
   "metadata": {},
   "outputs": [
    {
     "data": {
      "text/html": [
       "<div>\n",
       "<style scoped>\n",
       "    .dataframe tbody tr th:only-of-type {\n",
       "        vertical-align: middle;\n",
       "    }\n",
       "\n",
       "    .dataframe tbody tr th {\n",
       "        vertical-align: top;\n",
       "    }\n",
       "\n",
       "    .dataframe thead th {\n",
       "        text-align: right;\n",
       "    }\n",
       "</style>\n",
       "<table border=\"1\" class=\"dataframe\">\n",
       "  <thead>\n",
       "    <tr style=\"text-align: right;\">\n",
       "      <th>toss_decision</th>\n",
       "      <th>0</th>\n",
       "      <th>1</th>\n",
       "    </tr>\n",
       "    <tr>\n",
       "      <th>winner</th>\n",
       "      <th></th>\n",
       "      <th></th>\n",
       "    </tr>\n",
       "  </thead>\n",
       "  <tbody>\n",
       "    <tr>\n",
       "      <th>0.0</th>\n",
       "      <td>193</td>\n",
       "      <td>149</td>\n",
       "    </tr>\n",
       "    <tr>\n",
       "      <th>1.0</th>\n",
       "      <td>158</td>\n",
       "      <td>102</td>\n",
       "    </tr>\n",
       "    <tr>\n",
       "      <th>2.0</th>\n",
       "      <td>19</td>\n",
       "      <td>13</td>\n",
       "    </tr>\n",
       "    <tr>\n",
       "      <th>3.0</th>\n",
       "      <td>17</td>\n",
       "      <td>1</td>\n",
       "    </tr>\n",
       "  </tbody>\n",
       "</table>\n",
       "</div>"
      ],
      "text/plain": [
       "toss_decision    0    1\n",
       "winner                 \n",
       "0.0            193  149\n",
       "1.0            158  102\n",
       "2.0             19   13\n",
       "3.0             17    1"
      ]
     },
     "execution_count": 12,
     "metadata": {},
     "output_type": "execute_result"
    }
   ],
   "source": [
    "df_plot = dataset.groupby(['toss_decision', 'winner']).size().reset_index().pivot(columns='toss_decision', index='winner', values=0)\n",
    "\n",
    "df_plot"
   ]
  },
  {
   "cell_type": "code",
   "execution_count": 13,
   "id": "71f4e4c4",
   "metadata": {},
   "outputs": [
    {
     "data": {
      "image/png": "[encoded data removed]",
      "text/plain": [
       "<Figure size 432x288 with 1 Axes>"
      ]
     },
     "metadata": {
      "needs_background": "light"
     },
     "output_type": "display_data"
    }
   ],
   "source": [
    "df_plot.plot(kind='bar', stacked=True)\n",
    "plt.xlabel(\"Number of times the team won \\n\\n Kolkata Superstars : 0 ,Chennai Strikers : 1, Bangalore Royals : 2 , Mumbai Lords : 3\") \n",
    "plt.ylabel(\"Toss Decision \\n\\n 1 -> Batting First, 0 -> Fielding First\")\n",
    "plt.show()"
   ]
  },
  {
   "cell_type": "markdown",
   "id": "655afdd9",
   "metadata": {},
   "source": [
    "**Observation**\n",
    "- Kolkata Superstars have won more matches after they have won the toss and decided to field first. Also, they have won more matches batting first than the other teams which shows how much consistent they are.\n",
    "\n",
    "- Mumbai Indians have been the weakest team among the others "
   ]
  },
  {
   "cell_type": "markdown",
   "id": "6914a6af",
   "metadata": {},
   "source": [
    "<a name = Section64></a>\n",
    "**<h4>Question:** What is the relationship between the run margin and the winning team?</h4>"
   ]
  },
  {
   "cell_type": "code",
   "execution_count": 14,
   "id": "060d587f",
   "metadata": {},
   "outputs": [
    {
     "data": {
      "image/png": "[encoded data removed]",
      "text/plain": [
       "<Figure size 432x288 with 1 Axes>"
      ]
     },
     "metadata": {
      "needs_background": "light"
     },
     "output_type": "display_data"
    }
   ],
   "source": [
    "sns.scatterplot(x ='winner', y ='result_margin', data = dataset)\n",
    "plt.xlabel(\"Team\")\n",
    "plt.xticks([0,1,2,3])\n",
    "plt.ylabel(\"Run Margin\")\n",
    "plt.show()"
   ]
  },
  {
   "cell_type": "markdown",
   "id": "d44beab0",
   "metadata": {},
   "source": [
    "**Observations**\n",
    "\n",
    "- Kolkata has won matches with the biggest run margin when compared to the others"
   ]
  },
  {
   "cell_type": "markdown",
   "id": "f8806b57",
   "metadata": {},
   "source": [
    "<a name = Section65></a>\n",
    "**<h4>Question:** What is the relationship between the day of the match and the run margin?</h4>"
   ]
  },
  {
   "cell_type": "code",
   "execution_count": 15,
   "id": "84b119e6",
   "metadata": {},
   "outputs": [
    {
     "data": {
      "text/plain": [
       "<Figure size 1080x504 with 0 Axes>"
      ]
     },
     "metadata": {},
     "output_type": "display_data"
    },
    {
     "data": {
      "image/png": "[encoded data removed]",
      "text/plain": [
       "<Figure size 1059.88x504 with 1 Axes>"
      ]
     },
     "metadata": {
      "needs_background": "light"
     },
     "output_type": "display_data"
    }
   ],
   "source": [
    "\n",
    "fig = plt.figure(figsize = (15,7))\n",
    "sns.catplot(x=\"Day_of_Week\", y=\"result_margin\", hue = \"winner\",kind = 'swarm',data=dataset,height=7, aspect=2);\n",
    "plt.xlabel(\"Day of the week\")\n",
    "plt.ylabel(\"Run Margin\")\n",
    "plt.show()"
   ]
  },
  {
   "cell_type": "markdown",
   "id": "2ec9bc55",
   "metadata": {},
   "source": [
    "**Observation**\n",
    "\n",
    "- We can observe Kolkata and Chennai have consistently performed in all days of the week irrespective of the Year of tournament\n",
    "\n",
    "- Kolkata have scored well in the Weekends where they have had more 100+ runs margin than other teams"
   ]
  },
  {
   "cell_type": "markdown",
   "id": "03191acd",
   "metadata": {},
   "source": [
    "<a name = Section66></a>\n",
    "**<h4>Question:** What is the relationship between the year and the number of wins of each team?</h4>"
   ]
  },
  {
   "cell_type": "code",
   "execution_count": 16,
   "id": "28ac8230",
   "metadata": {},
   "outputs": [
    {
     "data": {
      "image/png": "[encoded data removed]",
      "text/plain": [
       "<Figure size 1440x720 with 1 Axes>"
      ]
     },
     "metadata": {
      "needs_background": "light"
     },
     "output_type": "display_data"
    }
   ],
   "source": [
    "fig = plt.figure(figsize = (20,10))\n",
    "sns.countplot(x ='Year', hue = \"winner\",data = dataset)\n",
    "plt.xlabel(\"Year\")\n",
    "\n",
    "plt.ylabel(\"No.of Wins\")\n",
    "plt.show()"
   ]
  },
  {
   "cell_type": "markdown",
   "id": "edf3ef6d",
   "metadata": {},
   "source": [
    "**Observations:**\n",
    "- The DPL tournament began in 2008 and we have data till 2020.\n",
    "\n",
    "- We can see Chennai and Kolkata have clearly outperformed the other 2 teams throughout the years\n",
    "\n",
    "- Mumbai and Bengaluru have not won a single game in 2008, 2009, 2010, 2014, 2015, 2018."
   ]
  },
  {
   "cell_type": "markdown",
   "id": "1f664b59",
   "metadata": {},
   "source": [
    "<a name = Section67></a>\n",
    "**<h4>Question:** How is the ground and the team victory related?</h4>"
   ]
  },
  {
   "cell_type": "code",
   "execution_count": 17,
   "id": "08221ad7",
   "metadata": {},
   "outputs": [
    {
     "data": {
      "image/png": "[encoded data removed]",
      "text/plain": [
       "<Figure size 1440x720 with 1 Axes>"
      ]
     },
     "metadata": {
      "needs_background": "light"
     },
     "output_type": "display_data"
    }
   ],
   "source": [
    "fig = plt.figure(figsize = (20,10))\n",
    "ax = sns.violinplot(x=\"neutral_venue\", y=\"winner\", data=dataset)\n",
    "plt.yticks([0,1,2,3])\n",
    "plt.show()"
   ]
  },
  {
   "cell_type": "markdown",
   "id": "d3aae099",
   "metadata": {},
   "source": [
    "**Observations :**\n",
    "\n",
    "- We can infer that Kolkata and Chennai have more than Mumbai and Bengaluru in Venue 0\n",
    "\n",
    "- Only Chennai and Kolkata have won in Venue 1 which shows there's no ground advantage for Mumbai and Bengaluru in Venue 1\n",
    "\n",
    "- Chennai have won more matches in Venue 1 that Kolkata"
   ]
  },
  {
   "cell_type": "markdown",
   "id": "589100ff",
   "metadata": {},
   "source": [
    "<a name = Section68></a>\n",
    "**<h4>Question:** How is the month of the match and team victory related?</h4>"
   ]
  },
  {
   "cell_type": "code",
   "execution_count": 18,
   "id": "7576a765",
   "metadata": {},
   "outputs": [
    {
     "data": {
      "image/png": "[encoded data removed]",
      "text/plain": [
       "<Figure size 1440x720 with 1 Axes>"
      ]
     },
     "metadata": {
      "needs_background": "light"
     },
     "output_type": "display_data"
    }
   ],
   "source": [
    "fig = plt.figure(figsize = (20,10))\n",
    "sns.countplot(x ='Month', hue = \"winner\",data = dataset)\n",
    "plt.xlabel(\"Month\")\n",
    "\n",
    "plt.ylabel(\"No.of Wins\")\n",
    "plt.show()"
   ]
  },
  {
   "cell_type": "code",
   "execution_count": 19,
   "id": "bb06cb3a",
   "metadata": {},
   "outputs": [
    {
     "data": {
      "text/plain": [
       "Year  Month\n",
       "2020  10       33\n",
       "2012  4        33\n",
       "2013  4        32\n",
       "2016  5        32\n",
       "2008  5        32\n",
       "2010  4        29\n",
       "2011  4        29\n",
       "2013  5        29\n",
       "2012  5        28\n",
       "2014  5        28\n",
       "2017  4        28\n",
       "2009  5        28\n",
       "2019  4        28\n",
       "2011  5        27\n",
       "2018  5        25\n",
       "2010  3        25\n",
       "2015  4        25\n",
       "      5        25\n",
       "2018  4        23\n",
       "2017  5        19\n",
       "2014  4        16\n",
       "2008  4        14\n",
       "2016  4        14\n",
       "2009  4        13\n",
       "2019  3        11\n",
       "      5        10\n",
       "2020  9         8\n",
       "      11        6\n",
       "2008  6         1\n",
       "2014  6         1\n",
       "dtype: int64"
      ]
     },
     "execution_count": 19,
     "metadata": {},
     "output_type": "execute_result"
    }
   ],
   "source": [
    "dataset[['Year','Month']].value_counts()"
   ]
  },
  {
   "cell_type": "markdown",
   "id": "550804f0",
   "metadata": {},
   "source": [
    "**Observations:**\n",
    "\n",
    "- Usually the DPL tournament will happen during the month of April and May. That's where the maximum number of games have been played.\n",
    "\n",
    "- We can see some matches happening in March, June, September, October and November.\n",
    "\n",
    "- We can conclude that matches happening in March and June can be due to the early commencement of the tournament for the year and late completion for the year. \n",
    "\n",
    "- We can see that in the year 2020, matches happened in September, October and November due to the COVID - 19 Pandemic."
   ]
  },
  {
   "cell_type": "code",
   "execution_count": 20,
   "id": "07324247",
   "metadata": {},
   "outputs": [
    {
     "data": {
      "text/html": [
       "<div>\n",
       "<style scoped>\n",
       "    .dataframe tbody tr th:only-of-type {\n",
       "        vertical-align: middle;\n",
       "    }\n",
       "\n",
       "    .dataframe tbody tr th {\n",
       "        vertical-align: top;\n",
       "    }\n",
       "\n",
       "    .dataframe thead th {\n",
       "        text-align: right;\n",
       "    }\n",
       "</style>\n",
       "<table border=\"1\" class=\"dataframe\">\n",
       "  <thead>\n",
       "    <tr style=\"text-align: right;\">\n",
       "      <th></th>\n",
       "      <th>id</th>\n",
       "      <th>neutral_venue</th>\n",
       "      <th>team1</th>\n",
       "      <th>team2</th>\n",
       "      <th>toss_winner</th>\n",
       "      <th>toss_decision</th>\n",
       "      <th>result_margin</th>\n",
       "      <th>Day_of_Week</th>\n",
       "      <th>Day_of_month</th>\n",
       "      <th>Month</th>\n",
       "      <th>Year</th>\n",
       "      <th>winner</th>\n",
       "    </tr>\n",
       "  </thead>\n",
       "  <tbody>\n",
       "    <tr>\n",
       "      <th>0</th>\n",
       "      <td>734031</td>\n",
       "      <td>0</td>\n",
       "      <td>0</td>\n",
       "      <td>1</td>\n",
       "      <td>1</td>\n",
       "      <td>0</td>\n",
       "      <td>15.0</td>\n",
       "      <td>6</td>\n",
       "      <td>23</td>\n",
       "      <td>5</td>\n",
       "      <td>2014</td>\n",
       "      <td>0.0</td>\n",
       "    </tr>\n",
       "    <tr>\n",
       "      <th>1</th>\n",
       "      <td>598011</td>\n",
       "      <td>0</td>\n",
       "      <td>0</td>\n",
       "      <td>2</td>\n",
       "      <td>0</td>\n",
       "      <td>1</td>\n",
       "      <td>41.0</td>\n",
       "      <td>7</td>\n",
       "      <td>13</td>\n",
       "      <td>4</td>\n",
       "      <td>2013</td>\n",
       "      <td>0.0</td>\n",
       "    </tr>\n",
       "    <tr>\n",
       "      <th>2</th>\n",
       "      <td>548354</td>\n",
       "      <td>0</td>\n",
       "      <td>1</td>\n",
       "      <td>1</td>\n",
       "      <td>1</td>\n",
       "      <td>1</td>\n",
       "      <td>43.0</td>\n",
       "      <td>7</td>\n",
       "      <td>5</td>\n",
       "      <td>5</td>\n",
       "      <td>2012</td>\n",
       "      <td>1.0</td>\n",
       "    </tr>\n",
       "    <tr>\n",
       "      <th>3</th>\n",
       "      <td>1136609</td>\n",
       "      <td>0</td>\n",
       "      <td>0</td>\n",
       "      <td>1</td>\n",
       "      <td>0</td>\n",
       "      <td>0</td>\n",
       "      <td>6.0</td>\n",
       "      <td>3</td>\n",
       "      <td>15</td>\n",
       "      <td>5</td>\n",
       "      <td>2018</td>\n",
       "      <td>0.0</td>\n",
       "    </tr>\n",
       "    <tr>\n",
       "      <th>4</th>\n",
       "      <td>392204</td>\n",
       "      <td>1</td>\n",
       "      <td>0</td>\n",
       "      <td>1</td>\n",
       "      <td>0</td>\n",
       "      <td>1</td>\n",
       "      <td>8.0</td>\n",
       "      <td>6</td>\n",
       "      <td>1</td>\n",
       "      <td>5</td>\n",
       "      <td>2009</td>\n",
       "      <td>0.0</td>\n",
       "    </tr>\n",
       "    <tr>\n",
       "      <th>...</th>\n",
       "      <td>...</td>\n",
       "      <td>...</td>\n",
       "      <td>...</td>\n",
       "      <td>...</td>\n",
       "      <td>...</td>\n",
       "      <td>...</td>\n",
       "      <td>...</td>\n",
       "      <td>...</td>\n",
       "      <td>...</td>\n",
       "      <td>...</td>\n",
       "      <td>...</td>\n",
       "      <td>...</td>\n",
       "    </tr>\n",
       "    <tr>\n",
       "      <th>647</th>\n",
       "      <td>392196</td>\n",
       "      <td>1</td>\n",
       "      <td>0</td>\n",
       "      <td>1</td>\n",
       "      <td>1</td>\n",
       "      <td>0</td>\n",
       "      <td>6.0</td>\n",
       "      <td>2</td>\n",
       "      <td>27</td>\n",
       "      <td>4</td>\n",
       "      <td>2009</td>\n",
       "      <td>1.0</td>\n",
       "    </tr>\n",
       "    <tr>\n",
       "      <th>648</th>\n",
       "      <td>392231</td>\n",
       "      <td>1</td>\n",
       "      <td>0</td>\n",
       "      <td>0</td>\n",
       "      <td>0</td>\n",
       "      <td>1</td>\n",
       "      <td>7.0</td>\n",
       "      <td>2</td>\n",
       "      <td>18</td>\n",
       "      <td>5</td>\n",
       "      <td>2009</td>\n",
       "      <td>0.0</td>\n",
       "    </tr>\n",
       "    <tr>\n",
       "      <th>649</th>\n",
       "      <td>548328</td>\n",
       "      <td>0</td>\n",
       "      <td>1</td>\n",
       "      <td>0</td>\n",
       "      <td>1</td>\n",
       "      <td>1</td>\n",
       "      <td>8.0</td>\n",
       "      <td>4</td>\n",
       "      <td>18</td>\n",
       "      <td>4</td>\n",
       "      <td>2012</td>\n",
       "      <td>0.0</td>\n",
       "    </tr>\n",
       "    <tr>\n",
       "      <th>650</th>\n",
       "      <td>734005</td>\n",
       "      <td>0</td>\n",
       "      <td>0</td>\n",
       "      <td>1</td>\n",
       "      <td>1</td>\n",
       "      <td>0</td>\n",
       "      <td>16.0</td>\n",
       "      <td>3</td>\n",
       "      <td>13</td>\n",
       "      <td>5</td>\n",
       "      <td>2014</td>\n",
       "      <td>0.0</td>\n",
       "    </tr>\n",
       "    <tr>\n",
       "      <th>651</th>\n",
       "      <td>392227</td>\n",
       "      <td>1</td>\n",
       "      <td>0</td>\n",
       "      <td>0</td>\n",
       "      <td>0</td>\n",
       "      <td>1</td>\n",
       "      <td>7.0</td>\n",
       "      <td>7</td>\n",
       "      <td>16</td>\n",
       "      <td>5</td>\n",
       "      <td>2009</td>\n",
       "      <td>0.0</td>\n",
       "    </tr>\n",
       "  </tbody>\n",
       "</table>\n",
       "<p>652 rows × 12 columns</p>\n",
       "</div>"
      ],
      "text/plain": [
       "          id  neutral_venue  team1  team2  toss_winner  toss_decision  \\\n",
       "0     734031              0      0      1            1              0   \n",
       "1     598011              0      0      2            0              1   \n",
       "2     548354              0      1      1            1              1   \n",
       "3    1136609              0      0      1            0              0   \n",
       "4     392204              1      0      1            0              1   \n",
       "..       ...            ...    ...    ...          ...            ...   \n",
       "647   392196              1      0      1            1              0   \n",
       "648   392231              1      0      0            0              1   \n",
       "649   548328              0      1      0            1              1   \n",
       "650   734005              0      0      1            1              0   \n",
       "651   392227              1      0      0            0              1   \n",
       "\n",
       "     result_margin  Day_of_Week  Day_of_month  Month  Year  winner  \n",
       "0             15.0            6            23      5  2014     0.0  \n",
       "1             41.0            7            13      4  2013     0.0  \n",
       "2             43.0            7             5      5  2012     1.0  \n",
       "3              6.0            3            15      5  2018     0.0  \n",
       "4              8.0            6             1      5  2009     0.0  \n",
       "..             ...          ...           ...    ...   ...     ...  \n",
       "647            6.0            2            27      4  2009     1.0  \n",
       "648            7.0            2            18      5  2009     0.0  \n",
       "649            8.0            4            18      4  2012     0.0  \n",
       "650           16.0            3            13      5  2014     0.0  \n",
       "651            7.0            7            16      5  2009     0.0  \n",
       "\n",
       "[652 rows x 12 columns]"
      ]
     },
     "execution_count": 20,
     "metadata": {},
     "output_type": "execute_result"
    }
   ],
   "source": [
    "dataset"
   ]
  },
  {
   "cell_type": "markdown",
   "id": "9ac70a22",
   "metadata": {},
   "source": [
    "<a name = Section7></a>\n",
    "## 7. Train Test Split"
   ]
  },
  {
   "cell_type": "code",
   "execution_count": 21,
   "id": "4411ea1a",
   "metadata": {},
   "outputs": [],
   "source": [
    "from sklearn.model_selection import train_test_split\n",
    "X = dataset.iloc[:,:-1]\n",
    "y = dataset.iloc[:,-1]\n",
    "X_train, X_test, y_train, y_test = train_test_split(X,y, test_size = 0.2, random_state = 1)"
   ]
  },
  {
   "cell_type": "code",
   "execution_count": 22,
   "id": "e51ac7c2",
   "metadata": {},
   "outputs": [
    {
     "data": {
      "text/html": [
       "<div>\n",
       "<style scoped>\n",
       "    .dataframe tbody tr th:only-of-type {\n",
       "        vertical-align: middle;\n",
       "    }\n",
       "\n",
       "    .dataframe tbody tr th {\n",
       "        vertical-align: top;\n",
       "    }\n",
       "\n",
       "    .dataframe thead th {\n",
       "        text-align: right;\n",
       "    }\n",
       "</style>\n",
       "<table border=\"1\" class=\"dataframe\">\n",
       "  <thead>\n",
       "    <tr style=\"text-align: right;\">\n",
       "      <th></th>\n",
       "      <th>id</th>\n",
       "      <th>neutral_venue</th>\n",
       "      <th>team1</th>\n",
       "      <th>team2</th>\n",
       "      <th>toss_winner</th>\n",
       "      <th>toss_decision</th>\n",
       "      <th>result_margin</th>\n",
       "      <th>Day_of_Week</th>\n",
       "      <th>Day_of_month</th>\n",
       "      <th>Month</th>\n",
       "      <th>Year</th>\n",
       "    </tr>\n",
       "  </thead>\n",
       "  <tbody>\n",
       "    <tr>\n",
       "      <th>380</th>\n",
       "      <td>1216525</td>\n",
       "      <td>0</td>\n",
       "      <td>0</td>\n",
       "      <td>0</td>\n",
       "      <td>0</td>\n",
       "      <td>1</td>\n",
       "      <td>37.0</td>\n",
       "      <td>7</td>\n",
       "      <td>10</td>\n",
       "      <td>10</td>\n",
       "      <td>2020</td>\n",
       "    </tr>\n",
       "    <tr>\n",
       "      <th>62</th>\n",
       "      <td>598008</td>\n",
       "      <td>0</td>\n",
       "      <td>0</td>\n",
       "      <td>0</td>\n",
       "      <td>0</td>\n",
       "      <td>0</td>\n",
       "      <td>8.0</td>\n",
       "      <td>5</td>\n",
       "      <td>11</td>\n",
       "      <td>4</td>\n",
       "      <td>2013</td>\n",
       "    </tr>\n",
       "    <tr>\n",
       "      <th>388</th>\n",
       "      <td>1082637</td>\n",
       "      <td>0</td>\n",
       "      <td>1</td>\n",
       "      <td>2</td>\n",
       "      <td>2</td>\n",
       "      <td>0</td>\n",
       "      <td>6.0</td>\n",
       "      <td>1</td>\n",
       "      <td>7</td>\n",
       "      <td>5</td>\n",
       "      <td>2017</td>\n",
       "    </tr>\n",
       "    <tr>\n",
       "      <th>241</th>\n",
       "      <td>548370</td>\n",
       "      <td>0</td>\n",
       "      <td>0</td>\n",
       "      <td>0</td>\n",
       "      <td>0</td>\n",
       "      <td>0</td>\n",
       "      <td>32.0</td>\n",
       "      <td>4</td>\n",
       "      <td>16</td>\n",
       "      <td>5</td>\n",
       "      <td>2012</td>\n",
       "    </tr>\n",
       "    <tr>\n",
       "      <th>638</th>\n",
       "      <td>392212</td>\n",
       "      <td>1</td>\n",
       "      <td>1</td>\n",
       "      <td>0</td>\n",
       "      <td>1</td>\n",
       "      <td>1</td>\n",
       "      <td>19.0</td>\n",
       "      <td>4</td>\n",
       "      <td>6</td>\n",
       "      <td>5</td>\n",
       "      <td>2009</td>\n",
       "    </tr>\n",
       "    <tr>\n",
       "      <th>...</th>\n",
       "      <td>...</td>\n",
       "      <td>...</td>\n",
       "      <td>...</td>\n",
       "      <td>...</td>\n",
       "      <td>...</td>\n",
       "      <td>...</td>\n",
       "      <td>...</td>\n",
       "      <td>...</td>\n",
       "      <td>...</td>\n",
       "      <td>...</td>\n",
       "      <td>...</td>\n",
       "    </tr>\n",
       "    <tr>\n",
       "      <th>144</th>\n",
       "      <td>1178430</td>\n",
       "      <td>0</td>\n",
       "      <td>1</td>\n",
       "      <td>0</td>\n",
       "      <td>1</td>\n",
       "      <td>0</td>\n",
       "      <td>6.0</td>\n",
       "      <td>1</td>\n",
       "      <td>5</td>\n",
       "      <td>5</td>\n",
       "      <td>2019</td>\n",
       "    </tr>\n",
       "    <tr>\n",
       "      <th>645</th>\n",
       "      <td>336002</td>\n",
       "      <td>0</td>\n",
       "      <td>1</td>\n",
       "      <td>0</td>\n",
       "      <td>1</td>\n",
       "      <td>1</td>\n",
       "      <td>5.0</td>\n",
       "      <td>1</td>\n",
       "      <td>25</td>\n",
       "      <td>5</td>\n",
       "      <td>2008</td>\n",
       "    </tr>\n",
       "    <tr>\n",
       "      <th>72</th>\n",
       "      <td>392198</td>\n",
       "      <td>1</td>\n",
       "      <td>1</td>\n",
       "      <td>1</td>\n",
       "      <td>1</td>\n",
       "      <td>1</td>\n",
       "      <td>5.0</td>\n",
       "      <td>3</td>\n",
       "      <td>28</td>\n",
       "      <td>4</td>\n",
       "      <td>2009</td>\n",
       "    </tr>\n",
       "    <tr>\n",
       "      <th>235</th>\n",
       "      <td>1178422</td>\n",
       "      <td>0</td>\n",
       "      <td>0</td>\n",
       "      <td>0</td>\n",
       "      <td>0</td>\n",
       "      <td>0</td>\n",
       "      <td>34.0</td>\n",
       "      <td>1</td>\n",
       "      <td>28</td>\n",
       "      <td>4</td>\n",
       "      <td>2019</td>\n",
       "    </tr>\n",
       "    <tr>\n",
       "      <th>37</th>\n",
       "      <td>392215</td>\n",
       "      <td>1</td>\n",
       "      <td>1</td>\n",
       "      <td>0</td>\n",
       "      <td>0</td>\n",
       "      <td>1</td>\n",
       "      <td>7.0</td>\n",
       "      <td>6</td>\n",
       "      <td>8</td>\n",
       "      <td>5</td>\n",
       "      <td>2009</td>\n",
       "    </tr>\n",
       "  </tbody>\n",
       "</table>\n",
       "<p>521 rows × 11 columns</p>\n",
       "</div>"
      ],
      "text/plain": [
       "          id  neutral_venue  team1  team2  toss_winner  toss_decision  \\\n",
       "380  1216525              0      0      0            0              1   \n",
       "62    598008              0      0      0            0              0   \n",
       "388  1082637              0      1      2            2              0   \n",
       "241   548370              0      0      0            0              0   \n",
       "638   392212              1      1      0            1              1   \n",
       "..       ...            ...    ...    ...          ...            ...   \n",
       "144  1178430              0      1      0            1              0   \n",
       "645   336002              0      1      0            1              1   \n",
       "72    392198              1      1      1            1              1   \n",
       "235  1178422              0      0      0            0              0   \n",
       "37    392215              1      1      0            0              1   \n",
       "\n",
       "     result_margin  Day_of_Week  Day_of_month  Month  Year  \n",
       "380           37.0            7            10     10  2020  \n",
       "62             8.0            5            11      4  2013  \n",
       "388            6.0            1             7      5  2017  \n",
       "241           32.0            4            16      5  2012  \n",
       "638           19.0            4             6      5  2009  \n",
       "..             ...          ...           ...    ...   ...  \n",
       "144            6.0            1             5      5  2019  \n",
       "645            5.0            1            25      5  2008  \n",
       "72             5.0            3            28      4  2009  \n",
       "235           34.0            1            28      4  2019  \n",
       "37             7.0            6             8      5  2009  \n",
       "\n",
       "[521 rows x 11 columns]"
      ]
     },
     "execution_count": 22,
     "metadata": {},
     "output_type": "execute_result"
    }
   ],
   "source": [
    "X_train"
   ]
  },
  {
   "cell_type": "code",
   "execution_count": 23,
   "id": "5ba2bf40",
   "metadata": {},
   "outputs": [
    {
     "data": {
      "text/plain": [
       "380    0.0\n",
       "62     0.0\n",
       "388    2.0\n",
       "241    0.0\n",
       "638    1.0\n",
       "      ... \n",
       "144    1.0\n",
       "645    0.0\n",
       "72     1.0\n",
       "235    0.0\n",
       "37     1.0\n",
       "Name: winner, Length: 521, dtype: float64"
      ]
     },
     "execution_count": 23,
     "metadata": {},
     "output_type": "execute_result"
    }
   ],
   "source": [
    "y_train"
   ]
  },
  {
   "cell_type": "code",
   "execution_count": 24,
   "id": "956873cd",
   "metadata": {},
   "outputs": [
    {
     "data": {
      "text/html": [
       "<div>\n",
       "<style scoped>\n",
       "    .dataframe tbody tr th:only-of-type {\n",
       "        vertical-align: middle;\n",
       "    }\n",
       "\n",
       "    .dataframe tbody tr th {\n",
       "        vertical-align: top;\n",
       "    }\n",
       "\n",
       "    .dataframe thead th {\n",
       "        text-align: right;\n",
       "    }\n",
       "</style>\n",
       "<table border=\"1\" class=\"dataframe\">\n",
       "  <thead>\n",
       "    <tr style=\"text-align: right;\">\n",
       "      <th></th>\n",
       "      <th>id</th>\n",
       "      <th>neutral_venue</th>\n",
       "      <th>team1</th>\n",
       "      <th>team2</th>\n",
       "      <th>toss_winner</th>\n",
       "      <th>toss_decision</th>\n",
       "      <th>result_margin</th>\n",
       "      <th>Day_of_Week</th>\n",
       "      <th>Day_of_month</th>\n",
       "      <th>Month</th>\n",
       "      <th>Year</th>\n",
       "    </tr>\n",
       "  </thead>\n",
       "  <tbody>\n",
       "    <tr>\n",
       "      <th>465</th>\n",
       "      <td>1175370</td>\n",
       "      <td>0</td>\n",
       "      <td>0</td>\n",
       "      <td>0</td>\n",
       "      <td>0</td>\n",
       "      <td>0</td>\n",
       "      <td>37.0</td>\n",
       "      <td>4</td>\n",
       "      <td>3</td>\n",
       "      <td>4</td>\n",
       "      <td>2019</td>\n",
       "    </tr>\n",
       "    <tr>\n",
       "      <th>441</th>\n",
       "      <td>734011</td>\n",
       "      <td>0</td>\n",
       "      <td>1</td>\n",
       "      <td>1</td>\n",
       "      <td>1</td>\n",
       "      <td>0</td>\n",
       "      <td>62.0</td>\n",
       "      <td>5</td>\n",
       "      <td>15</td>\n",
       "      <td>5</td>\n",
       "      <td>2014</td>\n",
       "    </tr>\n",
       "    <tr>\n",
       "      <th>593</th>\n",
       "      <td>980995</td>\n",
       "      <td>0</td>\n",
       "      <td>0</td>\n",
       "      <td>0</td>\n",
       "      <td>0</td>\n",
       "      <td>0</td>\n",
       "      <td>9.0</td>\n",
       "      <td>2</td>\n",
       "      <td>16</td>\n",
       "      <td>5</td>\n",
       "      <td>2016</td>\n",
       "    </tr>\n",
       "    <tr>\n",
       "      <th>458</th>\n",
       "      <td>829809</td>\n",
       "      <td>0</td>\n",
       "      <td>1</td>\n",
       "      <td>0</td>\n",
       "      <td>1</td>\n",
       "      <td>1</td>\n",
       "      <td>7.0</td>\n",
       "      <td>7</td>\n",
       "      <td>16</td>\n",
       "      <td>5</td>\n",
       "      <td>2015</td>\n",
       "    </tr>\n",
       "    <tr>\n",
       "      <th>41</th>\n",
       "      <td>734021</td>\n",
       "      <td>0</td>\n",
       "      <td>1</td>\n",
       "      <td>0</td>\n",
       "      <td>0</td>\n",
       "      <td>1</td>\n",
       "      <td>7.0</td>\n",
       "      <td>3</td>\n",
       "      <td>20</td>\n",
       "      <td>5</td>\n",
       "      <td>2014</td>\n",
       "    </tr>\n",
       "    <tr>\n",
       "      <th>...</th>\n",
       "      <td>...</td>\n",
       "      <td>...</td>\n",
       "      <td>...</td>\n",
       "      <td>...</td>\n",
       "      <td>...</td>\n",
       "      <td>...</td>\n",
       "      <td>...</td>\n",
       "      <td>...</td>\n",
       "      <td>...</td>\n",
       "      <td>...</td>\n",
       "      <td>...</td>\n",
       "    </tr>\n",
       "    <tr>\n",
       "      <th>195</th>\n",
       "      <td>548344</td>\n",
       "      <td>0</td>\n",
       "      <td>0</td>\n",
       "      <td>0</td>\n",
       "      <td>0</td>\n",
       "      <td>1</td>\n",
       "      <td>47.0</td>\n",
       "      <td>7</td>\n",
       "      <td>28</td>\n",
       "      <td>4</td>\n",
       "      <td>2012</td>\n",
       "    </tr>\n",
       "    <tr>\n",
       "      <th>135</th>\n",
       "      <td>829745</td>\n",
       "      <td>0</td>\n",
       "      <td>0</td>\n",
       "      <td>0</td>\n",
       "      <td>0</td>\n",
       "      <td>0</td>\n",
       "      <td>27.0</td>\n",
       "      <td>4</td>\n",
       "      <td>22</td>\n",
       "      <td>4</td>\n",
       "      <td>2015</td>\n",
       "    </tr>\n",
       "    <tr>\n",
       "      <th>411</th>\n",
       "      <td>1082602</td>\n",
       "      <td>0</td>\n",
       "      <td>0</td>\n",
       "      <td>0</td>\n",
       "      <td>0</td>\n",
       "      <td>0</td>\n",
       "      <td>4.0</td>\n",
       "      <td>6</td>\n",
       "      <td>14</td>\n",
       "      <td>4</td>\n",
       "      <td>2017</td>\n",
       "    </tr>\n",
       "    <tr>\n",
       "      <th>159</th>\n",
       "      <td>980961</td>\n",
       "      <td>0</td>\n",
       "      <td>2</td>\n",
       "      <td>1</td>\n",
       "      <td>1</td>\n",
       "      <td>0</td>\n",
       "      <td>8.0</td>\n",
       "      <td>3</td>\n",
       "      <td>3</td>\n",
       "      <td>5</td>\n",
       "      <td>2016</td>\n",
       "    </tr>\n",
       "    <tr>\n",
       "      <th>250</th>\n",
       "      <td>1136613</td>\n",
       "      <td>0</td>\n",
       "      <td>1</td>\n",
       "      <td>0</td>\n",
       "      <td>1</td>\n",
       "      <td>1</td>\n",
       "      <td>30.0</td>\n",
       "      <td>7</td>\n",
       "      <td>19</td>\n",
       "      <td>5</td>\n",
       "      <td>2018</td>\n",
       "    </tr>\n",
       "  </tbody>\n",
       "</table>\n",
       "<p>131 rows × 11 columns</p>\n",
       "</div>"
      ],
      "text/plain": [
       "          id  neutral_venue  team1  team2  toss_winner  toss_decision  \\\n",
       "465  1175370              0      0      0            0              0   \n",
       "441   734011              0      1      1            1              0   \n",
       "593   980995              0      0      0            0              0   \n",
       "458   829809              0      1      0            1              1   \n",
       "41    734021              0      1      0            0              1   \n",
       "..       ...            ...    ...    ...          ...            ...   \n",
       "195   548344              0      0      0            0              1   \n",
       "135   829745              0      0      0            0              0   \n",
       "411  1082602              0      0      0            0              0   \n",
       "159   980961              0      2      1            1              0   \n",
       "250  1136613              0      1      0            1              1   \n",
       "\n",
       "     result_margin  Day_of_Week  Day_of_month  Month  Year  \n",
       "465           37.0            4             3      4  2019  \n",
       "441           62.0            5            15      5  2014  \n",
       "593            9.0            2            16      5  2016  \n",
       "458            7.0            7            16      5  2015  \n",
       "41             7.0            3            20      5  2014  \n",
       "..             ...          ...           ...    ...   ...  \n",
       "195           47.0            7            28      4  2012  \n",
       "135           27.0            4            22      4  2015  \n",
       "411            4.0            6            14      4  2017  \n",
       "159            8.0            3             3      5  2016  \n",
       "250           30.0            7            19      5  2018  \n",
       "\n",
       "[131 rows x 11 columns]"
      ]
     },
     "execution_count": 24,
     "metadata": {},
     "output_type": "execute_result"
    }
   ],
   "source": [
    "X_test"
   ]
  },
  {
   "cell_type": "code",
   "execution_count": 25,
   "id": "d379a03e",
   "metadata": {},
   "outputs": [
    {
     "data": {
      "text/plain": [
       "465    0.0\n",
       "441    1.0\n",
       "593    0.0\n",
       "458    0.0\n",
       "41     1.0\n",
       "      ... \n",
       "195    0.0\n",
       "135    0.0\n",
       "411    0.0\n",
       "159    1.0\n",
       "250    1.0\n",
       "Name: winner, Length: 131, dtype: float64"
      ]
     },
     "execution_count": 25,
     "metadata": {},
     "output_type": "execute_result"
    }
   ],
   "source": [
    "y_test"
   ]
  },
  {
   "cell_type": "markdown",
   "id": "05704b40",
   "metadata": {},
   "source": [
    "<a name = Section8></a>\n",
    "## 8. Logistic Regression"
   ]
  },
  {
   "cell_type": "markdown",
   "id": "5d28e823",
   "metadata": {},
   "source": [
    "### We will be using Logistic Regresssion first to check the accuracy"
   ]
  },
  {
   "cell_type": "code",
   "execution_count": 26,
   "id": "ae8d96fb",
   "metadata": {},
   "outputs": [],
   "source": [
    "from sklearn.linear_model import LogisticRegression"
   ]
  },
  {
   "cell_type": "code",
   "execution_count": 27,
   "id": "55490700",
   "metadata": {},
   "outputs": [],
   "source": [
    "# logistic regression\n",
    "model1 = LogisticRegression()\n"
   ]
  },
  {
   "cell_type": "code",
   "execution_count": 28,
   "id": "0671e5a6",
   "metadata": {},
   "outputs": [
    {
     "data": {
      "text/plain": [
       "LogisticRegression()"
      ]
     },
     "execution_count": 28,
     "metadata": {},
     "output_type": "execute_result"
    }
   ],
   "source": [
    "model1.fit(X_train, y_train)\n"
   ]
  },
  {
   "cell_type": "code",
   "execution_count": 29,
   "id": "62f6e892",
   "metadata": {},
   "outputs": [],
   "source": [
    "log_preg_train = model1.predict(X_train)"
   ]
  },
  {
   "cell_type": "code",
   "execution_count": 30,
   "id": "f34a6b61",
   "metadata": {},
   "outputs": [],
   "source": [
    "log_pred_test = model1.predict(X_test)"
   ]
  },
  {
   "cell_type": "code",
   "execution_count": 31,
   "id": "2fa32267",
   "metadata": {},
   "outputs": [
    {
     "name": "stdout",
     "output_type": "stream",
     "text": [
      "Accuracy score for test data is: 0.5954198473282443\n"
     ]
    }
   ],
   "source": [
    "from sklearn.metrics import accuracy_score\n",
    "print('Accuracy score for test data is:', accuracy_score(y_test,log_pred_test))"
   ]
  },
  {
   "cell_type": "code",
   "execution_count": 32,
   "id": "c6db48b4",
   "metadata": {},
   "outputs": [
    {
     "name": "stdout",
     "output_type": "stream",
     "text": [
      "Accuracy score for Train data is: 0.5067178502879078\n"
     ]
    }
   ],
   "source": [
    "print('Accuracy score for Train data is:', accuracy_score(y_train,log_preg_train))"
   ]
  },
  {
   "cell_type": "code",
   "execution_count": 33,
   "id": "db8cb40a",
   "metadata": {},
   "outputs": [
    {
     "name": "stdout",
     "output_type": "stream",
     "text": [
      "              precision    recall  f1-score   support\n",
      "\n",
      "         0.0       0.60      1.00      0.75        78\n",
      "         1.0       0.00      0.00      0.00        48\n",
      "         2.0       0.00      0.00      0.00         3\n",
      "         3.0       0.00      0.00      0.00         2\n",
      "\n",
      "    accuracy                           0.60       131\n",
      "   macro avg       0.15      0.25      0.19       131\n",
      "weighted avg       0.35      0.60      0.44       131\n",
      "\n"
     ]
    }
   ],
   "source": [
    "from sklearn.metrics import classification_report\n",
    "print(classification_report(y_test,log_pred_test))"
   ]
  },
  {
   "cell_type": "code",
   "execution_count": 34,
   "id": "8a516b76",
   "metadata": {},
   "outputs": [
    {
     "name": "stdout",
     "output_type": "stream",
     "text": [
      "Precision Score : 0.5954198473282443\n",
      "Recall Score : 0.5954198473282443\n"
     ]
    }
   ],
   "source": [
    "from sklearn.metrics import precision_score, recall_score\n",
    "print(\"Precision Score :\",precision_score(y_test,log_pred_test, average='micro'))\n",
    "print(\"Recall Score :\",recall_score(y_test,log_pred_test, average = 'micro'))"
   ]
  },
  {
   "cell_type": "markdown",
   "id": "833cbbf1",
   "metadata": {},
   "source": [
    "#### We can see the Precision is very low. We can tune our model by adjusting the hyperparameters by using .predict_proba instead of .predict"
   ]
  },
  {
   "cell_type": "markdown",
   "id": "bf2814f0",
   "metadata": {},
   "source": [
    "#### Setting threshold to 0.75"
   ]
  },
  {
   "cell_type": "code",
   "execution_count": 35,
   "id": "01c6290b",
   "metadata": {},
   "outputs": [
    {
     "data": {
      "text/plain": [
       "array([[0.49070195, 0.33878979, 0.12097819, 0.04953006],\n",
       "       [0.51977779, 0.41056965, 0.03839477, 0.03125779],\n",
       "       [0.51031476, 0.37431617, 0.07424688, 0.0411222 ],\n",
       "       [0.51760752, 0.39771123, 0.04978068, 0.03490057],\n",
       "       [0.51932491, 0.41092866, 0.03845125, 0.03129518],\n",
       "       [0.51890488, 0.42798071, 0.02647717, 0.02663725],\n",
       "       [0.51031108, 0.37433742, 0.07423232, 0.04111919],\n",
       "       [0.51677984, 0.43919642, 0.02029433, 0.02372941],\n",
       "       [0.51690117, 0.43907703, 0.02029371, 0.02372809],\n",
       "       [0.5015051 , 0.35664311, 0.09631621, 0.04553559],\n",
       "       [0.484479  , 0.3306359 , 0.13358044, 0.05130466],\n",
       "       [0.49000324, 0.33834371, 0.12196204, 0.049691  ],\n",
       "       [0.51437177, 0.44803554, 0.0161436 , 0.02144909],\n",
       "       [0.51095804, 0.45683731, 0.01282352, 0.01938114],\n",
       "       [0.48445042, 0.33062664, 0.13360996, 0.05131298],\n",
       "       [0.51096464, 0.45683664, 0.01282097, 0.01937775],\n",
       "       [0.51450631, 0.44793483, 0.0161272 , 0.02143166],\n",
       "       [0.51688052, 0.43910016, 0.02029258, 0.02372675],\n",
       "       [0.51765573, 0.39767002, 0.04977522, 0.03489903],\n",
       "       [0.51708559, 0.43893402, 0.02027284, 0.02370755],\n",
       "       [0.51028895, 0.37435171, 0.07423773, 0.0411216 ],\n",
       "       [0.51062383, 0.37412493, 0.07416301, 0.04108823],\n",
       "       [0.48494699, 0.33040404, 0.13339835, 0.05125062],\n",
       "       [0.5109628 , 0.45684131, 0.01281934, 0.01937655],\n",
       "       [0.51932806, 0.41093261, 0.03844739, 0.03129194],\n",
       "       [0.51772835, 0.39760772, 0.04976901, 0.03489492],\n",
       "       [0.51930349, 0.41093244, 0.03846106, 0.03130301],\n",
       "       [0.48445526, 0.33064434, 0.13359173, 0.05130868],\n",
       "       [0.48456428, 0.33057338, 0.13356227, 0.05130007],\n",
       "       [0.50160534, 0.35657617, 0.09629199, 0.0455265 ],\n",
       "       [0.49550867, 0.3465087 , 0.11010984, 0.04787279],\n",
       "       [0.49045623, 0.33897423, 0.12102321, 0.04954633],\n",
       "       [0.51786392, 0.39754073, 0.0497245 , 0.03487084],\n",
       "       [0.51677867, 0.43918926, 0.02029908, 0.023733  ],\n",
       "       [0.51792366, 0.43385298, 0.02310984, 0.02511352],\n",
       "       [0.51325328, 0.45096942, 0.01500107, 0.02077624],\n",
       "       [0.51443245, 0.44799738, 0.01613256, 0.02143761],\n",
       "       [0.51794585, 0.43384201, 0.02310331, 0.02510884],\n",
       "       [0.48441764, 0.33062689, 0.13363423, 0.05132124],\n",
       "       [0.51793541, 0.43384676, 0.02310622, 0.02511161],\n",
       "       [0.51933398, 0.4109211 , 0.03845039, 0.03129454],\n",
       "       [0.51119039, 0.45663666, 0.01280908, 0.01936387],\n",
       "       [0.51028918, 0.37431941, 0.0742615 , 0.04112991],\n",
       "       [0.5179852 , 0.43380953, 0.02309968, 0.02510558],\n",
       "       [0.49011222, 0.33831219, 0.12190391, 0.04967168],\n",
       "       [0.51760909, 0.39772048, 0.04977173, 0.0348987 ],\n",
       "       [0.51720815, 0.43882918, 0.0202638 , 0.02369887],\n",
       "       [0.51804317, 0.43375184, 0.02309936, 0.02510564],\n",
       "       [0.4894818 , 0.33767606, 0.12299461, 0.04984752],\n",
       "       [0.51686102, 0.43912575, 0.02028893, 0.0237243 ],\n",
       "       [0.51035329, 0.37431737, 0.07421735, 0.04111198],\n",
       "       [0.51769632, 0.39766274, 0.04975335, 0.0348876 ],\n",
       "       [0.49043354, 0.33892959, 0.12107489, 0.04956198],\n",
       "       [0.5019028 , 0.35641681, 0.09619245, 0.04548794],\n",
       "       [0.51472476, 0.44774342, 0.01611429, 0.02141753],\n",
       "       [0.5188222 , 0.42804622, 0.02648647, 0.02664511],\n",
       "       [0.49548114, 0.34648663, 0.11014773, 0.0478845 ],\n",
       "       [0.51431955, 0.44809906, 0.01613796, 0.02144343],\n",
       "       [0.51679882, 0.4391816 , 0.02029224, 0.02372734],\n",
       "       [0.510964  , 0.45684085, 0.01281944, 0.01937571],\n",
       "       [0.48446262, 0.33063391, 0.13359289, 0.05131058],\n",
       "       [0.5188644 , 0.42802377, 0.02647509, 0.02663674],\n",
       "       [0.51793505, 0.43383961, 0.02311076, 0.02511458],\n",
       "       [0.51791437, 0.43385863, 0.02311169, 0.02511531],\n",
       "       [0.51099664, 0.45681486, 0.01281649, 0.01937201],\n",
       "       [0.49543635, 0.34649261, 0.11017618, 0.04789485],\n",
       "       [0.51677626, 0.43919304, 0.02029769, 0.023733  ],\n",
       "       [0.49004358, 0.33833419, 0.12193892, 0.04968331],\n",
       "       [0.51794356, 0.43384847, 0.02310117, 0.0251068 ],\n",
       "       [0.51760378, 0.39770011, 0.04978943, 0.03490669],\n",
       "       [0.51886184, 0.42801037, 0.02648433, 0.02664346],\n",
       "       [0.51759129, 0.39772023, 0.04978522, 0.03490326],\n",
       "       [0.48998993, 0.33834489, 0.12197106, 0.04969413],\n",
       "       [0.51425862, 0.44814068, 0.01614756, 0.02145315],\n",
       "       [0.48449998, 0.33060615, 0.13358722, 0.05130666],\n",
       "       [0.51322873, 0.45100324, 0.01499695, 0.02077107],\n",
       "       [0.49552975, 0.34648194, 0.11011539, 0.04787291],\n",
       "       [0.51791275, 0.43386167, 0.02311097, 0.02511461],\n",
       "       [0.51939157, 0.41087936, 0.03844099, 0.03128807],\n",
       "       [0.51177198, 0.4561162 , 0.01278224, 0.01932958],\n",
       "       [0.51095871, 0.37388294, 0.07410108, 0.04105726],\n",
       "       [0.51675699, 0.43922005, 0.020294  , 0.02372896],\n",
       "       [0.51760772, 0.39771569, 0.04977535, 0.03490124],\n",
       "       [0.51447574, 0.44795819, 0.0161306 , 0.02143547],\n",
       "       [0.51680224, 0.4391647 , 0.02029951, 0.02373356],\n",
       "       [0.51769416, 0.39764607, 0.0497671 , 0.03489268],\n",
       "       [0.51882685, 0.42803764, 0.02648853, 0.02664698],\n",
       "       [0.48448078, 0.33062646, 0.13358673, 0.05130603],\n",
       "       [0.5015081 , 0.35662954, 0.09632365, 0.04553871],\n",
       "       [0.49540456, 0.34653673, 0.1101658 , 0.04789291],\n",
       "       [0.50148145, 0.35664307, 0.09633455, 0.04554093],\n",
       "       [0.49009262, 0.33826366, 0.1219562 , 0.04968752],\n",
       "       [0.51930937, 0.41094359, 0.03845195, 0.03129509],\n",
       "       [0.51763001, 0.39771531, 0.04976226, 0.03489242],\n",
       "       [0.51145114, 0.45639817, 0.01279952, 0.01935118],\n",
       "       [0.48450768, 0.33062804, 0.13356441, 0.05129987],\n",
       "       [0.51909906, 0.42782196, 0.02645775, 0.02662122],\n",
       "       [0.50152641, 0.35661394, 0.09632316, 0.04553649],\n",
       "       [0.50150205, 0.35661875, 0.09633563, 0.04554357],\n",
       "       [0.49542983, 0.34650239, 0.11017387, 0.04789391],\n",
       "       [0.49548549, 0.34652135, 0.11011769, 0.04787547],\n",
       "       [0.51768752, 0.39767035, 0.04975415, 0.03488797],\n",
       "       [0.51421574, 0.44818253, 0.01614755, 0.02145418],\n",
       "       [0.51934864, 0.41157478, 0.03795586, 0.03112072],\n",
       "       [0.51798457, 0.43379223, 0.02310954, 0.02511365],\n",
       "       [0.51755636, 0.39775532, 0.04978283, 0.03490549],\n",
       "       [0.49552396, 0.34649608, 0.11010784, 0.04787212],\n",
       "       [0.5178884 , 0.4338756 , 0.02311635, 0.02511964],\n",
       "       [0.51111177, 0.45670119, 0.01281571, 0.01937134],\n",
       "       [0.51792782, 0.43385648, 0.02310517, 0.02511053],\n",
       "       [0.51890716, 0.42799363, 0.02646828, 0.02663093],\n",
       "       [0.5146302 , 0.44781764, 0.01612387, 0.02142828],\n",
       "       [0.48447202, 0.33061583, 0.13360125, 0.0513109 ],\n",
       "       [0.4954641 , 0.34651392, 0.11013878, 0.0478832 ],\n",
       "       [0.51759555, 0.39771293, 0.04978692, 0.0349046 ],\n",
       "       [0.51424062, 0.44815403, 0.01614971, 0.02145564],\n",
       "       [0.49551759, 0.34645635, 0.11014299, 0.04788307],\n",
       "       [0.4956809 , 0.34640386, 0.11005992, 0.04785532],\n",
       "       [0.51757798, 0.39773905, 0.049782  , 0.03490098],\n",
       "       [0.51772085, 0.39764984, 0.0497463 , 0.03488301],\n",
       "       [0.51321849, 0.45101874, 0.01499405, 0.02076871],\n",
       "       [0.50176782, 0.35645605, 0.09626097, 0.04551516],\n",
       "       [0.48948191, 0.33766993, 0.12299911, 0.04984905],\n",
       "       [0.49046633, 0.33896387, 0.12102341, 0.04954639],\n",
       "       [0.51883017, 0.42805177, 0.02647848, 0.02663958],\n",
       "       [0.51146573, 0.37355944, 0.07397491, 0.04099992],\n",
       "       [0.51826769, 0.43357619, 0.02307387, 0.02508226],\n",
       "       [0.51778058, 0.39760092, 0.04973919, 0.03487931],\n",
       "       [0.50150828, 0.35662583, 0.0963261 , 0.04553979],\n",
       "       [0.5102949 , 0.37431444, 0.07426092, 0.04112975],\n",
       "       [0.49566307, 0.34639726, 0.1100793 , 0.04786038]])"
      ]
     },
     "execution_count": 35,
     "metadata": {},
     "output_type": "execute_result"
    }
   ],
   "source": [
    "model1.predict_proba(X_test)"
   ]
  },
  {
   "cell_type": "code",
   "execution_count": 36,
   "id": "fbb2a826",
   "metadata": {},
   "outputs": [
    {
     "data": {
      "text/plain": [
       "array([0.33878979, 0.41056965, 0.37431617, 0.39771123, 0.41092866,\n",
       "       0.42798071, 0.37433742, 0.43919642, 0.43907703, 0.35664311,\n",
       "       0.3306359 , 0.33834371, 0.44803554, 0.45683731, 0.33062664,\n",
       "       0.45683664, 0.44793483, 0.43910016, 0.39767002, 0.43893402,\n",
       "       0.37435171, 0.37412493, 0.33040404, 0.45684131, 0.41093261,\n",
       "       0.39760772, 0.41093244, 0.33064434, 0.33057338, 0.35657617,\n",
       "       0.3465087 , 0.33897423, 0.39754073, 0.43918926, 0.43385298,\n",
       "       0.45096942, 0.44799738, 0.43384201, 0.33062689, 0.43384676,\n",
       "       0.4109211 , 0.45663666, 0.37431941, 0.43380953, 0.33831219,\n",
       "       0.39772048, 0.43882918, 0.43375184, 0.33767606, 0.43912575,\n",
       "       0.37431737, 0.39766274, 0.33892959, 0.35641681, 0.44774342,\n",
       "       0.42804622, 0.34648663, 0.44809906, 0.4391816 , 0.45684085,\n",
       "       0.33063391, 0.42802377, 0.43383961, 0.43385863, 0.45681486,\n",
       "       0.34649261, 0.43919304, 0.33833419, 0.43384847, 0.39770011,\n",
       "       0.42801037, 0.39772023, 0.33834489, 0.44814068, 0.33060615,\n",
       "       0.45100324, 0.34648194, 0.43386167, 0.41087936, 0.4561162 ,\n",
       "       0.37388294, 0.43922005, 0.39771569, 0.44795819, 0.4391647 ,\n",
       "       0.39764607, 0.42803764, 0.33062646, 0.35662954, 0.34653673,\n",
       "       0.35664307, 0.33826366, 0.41094359, 0.39771531, 0.45639817,\n",
       "       0.33062804, 0.42782196, 0.35661394, 0.35661875, 0.34650239,\n",
       "       0.34652135, 0.39767035, 0.44818253, 0.41157478, 0.43379223,\n",
       "       0.39775532, 0.34649608, 0.4338756 , 0.45670119, 0.43385648,\n",
       "       0.42799363, 0.44781764, 0.33061583, 0.34651392, 0.39771293,\n",
       "       0.44815403, 0.34645635, 0.34640386, 0.39773905, 0.39764984,\n",
       "       0.45101874, 0.35645605, 0.33766993, 0.33896387, 0.42805177,\n",
       "       0.37355944, 0.43357619, 0.39760092, 0.35662583, 0.37431444,\n",
       "       0.34639726])"
      ]
     },
     "execution_count": 36,
     "metadata": {},
     "output_type": "execute_result"
    }
   ],
   "source": [
    "model1.predict_proba(X_test)[:, 1]"
   ]
  },
  {
   "cell_type": "code",
   "execution_count": 37,
   "id": "f22eb203",
   "metadata": {},
   "outputs": [
    {
     "data": {
      "text/plain": [
       "array([False, False, False, False, False, False, False, False, False,\n",
       "       False, False, False, False, False, False, False, False, False,\n",
       "       False, False, False, False, False, False, False, False, False,\n",
       "       False, False, False, False, False, False, False, False, False,\n",
       "       False, False, False, False, False, False, False, False, False,\n",
       "       False, False, False, False, False, False, False, False, False,\n",
       "       False, False, False, False, False, False, False, False, False,\n",
       "       False, False, False, False, False, False, False, False, False,\n",
       "       False, False, False, False, False, False, False, False, False,\n",
       "       False, False, False, False, False, False, False, False, False,\n",
       "       False, False, False, False, False, False, False, False, False,\n",
       "       False, False, False, False, False, False, False, False, False,\n",
       "       False, False, False, False, False, False, False, False, False,\n",
       "       False, False, False, False, False, False, False, False, False,\n",
       "       False, False, False, False, False])"
      ]
     },
     "execution_count": 37,
     "metadata": {},
     "output_type": "execute_result"
    }
   ],
   "source": [
    "model1.predict_proba(X_test)[:, 1] > 0.75"
   ]
  },
  {
   "cell_type": "code",
   "execution_count": 38,
   "id": "fb07cddd",
   "metadata": {},
   "outputs": [
    {
     "name": "stdout",
     "output_type": "stream",
     "text": [
      "Accuracy score for test data is: 0.5954198473282443\n"
     ]
    }
   ],
   "source": [
    "log_preds1 = np.where(model1.predict_proba(X_test)[:,1]> 0.75,1,0)\n",
    "print('Accuracy score for test data is:', accuracy_score(y_test,log_preds1))"
   ]
  },
  {
   "cell_type": "code",
   "execution_count": 39,
   "id": "49c532df",
   "metadata": {},
   "outputs": [
    {
     "name": "stdout",
     "output_type": "stream",
     "text": [
      "Precision Score : 0.5954198473282443\n",
      "Recall Score : 0.5954198473282443\n"
     ]
    }
   ],
   "source": [
    "print(\"Precision Score :\",precision_score(y_test,log_preds1, average='micro'))\n",
    "print(\"Recall Score :\",recall_score(y_test,log_preds1, average = 'micro'))"
   ]
  },
  {
   "cell_type": "markdown",
   "id": "204bedd7",
   "metadata": {},
   "source": [
    "#### We can see the accuracy score remains the same\n",
    "\n",
    "#### Setting threshold to 0.25"
   ]
  },
  {
   "cell_type": "code",
   "execution_count": 40,
   "id": "ac54230b",
   "metadata": {},
   "outputs": [
    {
     "name": "stdout",
     "output_type": "stream",
     "text": [
      "Accuracy score for test data is: 0.366412213740458\n"
     ]
    }
   ],
   "source": [
    "log_preds2 = np.where(model1.predict_proba(X_test)[:,1]> 0.25,1,0)\n",
    "print('Accuracy score for test data is:', accuracy_score(y_test,log_preds2))"
   ]
  },
  {
   "cell_type": "code",
   "execution_count": 41,
   "id": "f458fc07",
   "metadata": {},
   "outputs": [
    {
     "name": "stdout",
     "output_type": "stream",
     "text": [
      "Precision Score : 0.366412213740458\n",
      "Recall Score : 0.366412213740458\n"
     ]
    }
   ],
   "source": [
    "print(\"Precision Score :\",precision_score(y_test,log_preds2, average='micro'))\n",
    "print(\"Recall Score :\",recall_score(y_test,log_preds2, average = 'micro'))"
   ]
  },
  {
   "cell_type": "markdown",
   "id": "97eeb3cb",
   "metadata": {},
   "source": [
    "#### We can see the accuracy has come down to 0.36. Hence we can't use Logistic Regression"
   ]
  },
  {
   "cell_type": "markdown",
   "id": "8b6ec696",
   "metadata": {},
   "source": [
    "<a name = Section9></a>\n",
    "## 9. Decision Tree"
   ]
  },
  {
   "cell_type": "code",
   "execution_count": 42,
   "id": "7bb13686",
   "metadata": {},
   "outputs": [
    {
     "data": {
      "text/plain": [
       "DecisionTreeClassifier(random_state=0)"
      ]
     },
     "execution_count": 42,
     "metadata": {},
     "output_type": "execute_result"
    }
   ],
   "source": [
    "from sklearn.tree import DecisionTreeClassifier\n",
    "dt_model = DecisionTreeClassifier(random_state = 0)\n",
    "dt_model.fit(X_train, y_train)"
   ]
  },
  {
   "cell_type": "code",
   "execution_count": 43,
   "id": "e76e06c7",
   "metadata": {},
   "outputs": [],
   "source": [
    "dt_y_pred_train = dt_model.predict(X_train)  "
   ]
  },
  {
   "cell_type": "code",
   "execution_count": 44,
   "id": "26682236",
   "metadata": {},
   "outputs": [],
   "source": [
    "dt_y_pred_test = dt_model.predict(X_test)                                                           "
   ]
  },
  {
   "cell_type": "code",
   "execution_count": 45,
   "id": "93e52431",
   "metadata": {},
   "outputs": [
    {
     "name": "stdout",
     "output_type": "stream",
     "text": [
      "Accuracy score for test data is: 0.7786259541984732\n"
     ]
    }
   ],
   "source": [
    "print('Accuracy score for test data is:', accuracy_score(y_test,dt_y_pred_test))"
   ]
  },
  {
   "cell_type": "code",
   "execution_count": 46,
   "id": "ad1aeb1d",
   "metadata": {},
   "outputs": [
    {
     "name": "stdout",
     "output_type": "stream",
     "text": [
      "Accuracy score for train data is: 1.0\n"
     ]
    }
   ],
   "source": [
    "print('Accuracy score for train data is:', accuracy_score(y_train,dt_y_pred_train))"
   ]
  },
  {
   "cell_type": "code",
   "execution_count": 47,
   "id": "20dc5a03",
   "metadata": {},
   "outputs": [
    {
     "name": "stdout",
     "output_type": "stream",
     "text": [
      "              precision    recall  f1-score   support\n",
      "\n",
      "         0.0       0.90      0.79      0.84        78\n",
      "         1.0       0.76      0.77      0.76        48\n",
      "         2.0       0.12      0.33      0.18         3\n",
      "         3.0       0.40      1.00      0.57         2\n",
      "\n",
      "    accuracy                           0.78       131\n",
      "   macro avg       0.54      0.72      0.59       131\n",
      "weighted avg       0.82      0.78      0.79       131\n",
      "\n"
     ]
    }
   ],
   "source": [
    "from sklearn.metrics import classification_report\n",
    "print(classification_report(y_test,dt_y_pred_test))"
   ]
  },
  {
   "cell_type": "code",
   "execution_count": 48,
   "id": "cabd0885",
   "metadata": {},
   "outputs": [
    {
     "name": "stdout",
     "output_type": "stream",
     "text": [
      "Precision Score : 0.7786259541984732\n",
      "Recall Score : 0.7786259541984732\n"
     ]
    }
   ],
   "source": [
    "from sklearn.metrics import precision_score, recall_score\n",
    "print(\"Precision Score :\",precision_score(y_test,dt_y_pred_test, average='micro'))\n",
    "print(\"Recall Score :\",recall_score(y_test,dt_y_pred_test, average = 'micro'))"
   ]
  },
  {
   "cell_type": "markdown",
   "id": "65dc0f7d",
   "metadata": {},
   "source": [
    "#### Setting Threshold to 0.75"
   ]
  },
  {
   "cell_type": "code",
   "execution_count": 49,
   "id": "b941cf70",
   "metadata": {},
   "outputs": [
    {
     "name": "stdout",
     "output_type": "stream",
     "text": [
      "Accuracy score for test data is: 0.7938931297709924\n"
     ]
    }
   ],
   "source": [
    "dt_preds1 = np.where(dt_model.predict_proba(X_test)[:,1]> 0.75,1,0)\n",
    "print('Accuracy score for test data is:', accuracy_score(y_test,dt_preds1))"
   ]
  },
  {
   "cell_type": "markdown",
   "id": "a1943713",
   "metadata": {},
   "source": [
    "#### Setting Threshold to 0.50"
   ]
  },
  {
   "cell_type": "code",
   "execution_count": 50,
   "id": "2f23ba61",
   "metadata": {},
   "outputs": [
    {
     "name": "stdout",
     "output_type": "stream",
     "text": [
      "Accuracy score for test data is: 0.7938931297709924\n"
     ]
    }
   ],
   "source": [
    "dt_preds2 = np.where(dt_model.predict_proba(X_test)[:,1]> 0.50,1,0)\n",
    "print('Accuracy score for test data is:', accuracy_score(y_test,dt_preds2))"
   ]
  },
  {
   "cell_type": "code",
   "execution_count": 51,
   "id": "54254fe2",
   "metadata": {},
   "outputs": [
    {
     "name": "stdout",
     "output_type": "stream",
     "text": [
      "Precision Score : 0.7938931297709924\n",
      "Recall Score : 0.7938931297709924\n"
     ]
    }
   ],
   "source": [
    "print(\"Precision Score :\",precision_score(y_test,dt_preds2, average='micro'))\n",
    "print(\"Recall Score :\",recall_score(y_test,dt_preds2, average = 'micro'))"
   ]
  },
  {
   "cell_type": "markdown",
   "id": "67c5df8b",
   "metadata": {},
   "source": [
    "<a name = Section10></a>\n",
    "## 10. Random Forest Classifier"
   ]
  },
  {
   "cell_type": "code",
   "execution_count": 52,
   "id": "e611d1ea",
   "metadata": {},
   "outputs": [],
   "source": [
    "from sklearn.model_selection import RandomizedSearchCV              # To find best hyperparamter setting for the algorithm\n",
    "from sklearn.ensemble import RandomForestClassifier"
   ]
  },
  {
   "cell_type": "code",
   "execution_count": 53,
   "id": "c30622f4",
   "metadata": {},
   "outputs": [],
   "source": [
    "rf_clf = RandomForestClassifier(random_state=42, class_weight='balanced')\n",
    "rf_clf.fit(X_train, y_train)\n",
    "\n",
    "# Predicting training and testing labels\n",
    "y_train_pred_count = rf_clf.predict(X_train)\n",
    "y_test_pred_count = rf_clf.predict(X_test)"
   ]
  },
  {
   "cell_type": "code",
   "execution_count": 54,
   "id": "2fe7d670",
   "metadata": {},
   "outputs": [
    {
     "name": "stdout",
     "output_type": "stream",
     "text": [
      "Accuracy score for test data is: 0.7251908396946565\n"
     ]
    }
   ],
   "source": [
    "print('Accuracy score for test data is:', accuracy_score(y_test,y_test_pred_count))"
   ]
  },
  {
   "cell_type": "code",
   "execution_count": 55,
   "id": "9dc66430",
   "metadata": {},
   "outputs": [
    {
     "name": "stdout",
     "output_type": "stream",
     "text": [
      "Accuracy score for train data is: 1.0\n"
     ]
    }
   ],
   "source": [
    "print('Accuracy score for train data is:', accuracy_score(y_train,y_train_pred_count))"
   ]
  },
  {
   "cell_type": "code",
   "execution_count": 56,
   "id": "fed621b8",
   "metadata": {},
   "outputs": [
    {
     "name": "stdout",
     "output_type": "stream",
     "text": [
      "              precision    recall  f1-score   support\n",
      "\n",
      "         0.0       0.82      0.79      0.81        78\n",
      "         1.0       0.73      0.67      0.70        48\n",
      "         2.0       0.11      0.33      0.17         3\n",
      "         3.0       0.00      0.00      0.00         2\n",
      "\n",
      "    accuracy                           0.73       131\n",
      "   macro avg       0.41      0.45      0.42       131\n",
      "weighted avg       0.75      0.73      0.74       131\n",
      "\n"
     ]
    }
   ],
   "source": [
    "print(classification_report(y_test,y_test_pred_count))"
   ]
  },
  {
   "cell_type": "code",
   "execution_count": 57,
   "id": "60d7b40c",
   "metadata": {},
   "outputs": [
    {
     "name": "stdout",
     "output_type": "stream",
     "text": [
      "Precision Score : 0.7251908396946565\n",
      "Recall Score : 0.7251908396946565\n"
     ]
    }
   ],
   "source": [
    "print(\"Precision Score :\",precision_score(y_test,y_test_pred_count, average='micro'))\n",
    "print(\"Recall Score :\",recall_score(y_test,y_test_pred_count, average = 'micro'))"
   ]
  },
  {
   "cell_type": "markdown",
   "id": "a4562ee2",
   "metadata": {},
   "source": [
    "<a name = Section11></a>\n",
    "\n",
    "### 11. Randomized Search CV"
   ]
  },
  {
   "cell_type": "code",
   "execution_count": 58,
   "id": "4ab58451",
   "metadata": {},
   "outputs": [
    {
     "data": {
      "text/plain": [
       "RandomizedSearchCV(estimator=RandomForestClassifier(class_weight='balanced',\n",
       "                                                    random_state=42),\n",
       "                   n_iter=50, n_jobs=-1,\n",
       "                   param_distributions={'bootstrap': [True, False],\n",
       "                                        'criterion': ['gini', 'entropy'],\n",
       "                                        'max_depth': range(2, 5),\n",
       "                                        'max_features': ['sqrt', 'log2', None],\n",
       "                                        'min_samples_leaf': <scipy.stats._distn_infrastructure.rv_frozen object at 0x000002105B7C9348>,\n",
       "                                        'min_samples_split': <scipy.stats._distn_infrastructure.rv_frozen object at 0x000002105B7C9F08>,\n",
       "                                        'n_estimators': [100, 400, 700, 1000,\n",
       "                                                         1500]})"
      ]
     },
     "execution_count": 58,
     "metadata": {},
     "output_type": "execute_result"
    }
   ],
   "source": [
    "from scipy.stats import randint as sp_randint\n",
    "# Parameters for GridSearchCV\n",
    "# Specify parameters and distributions to sample from\n",
    "\n",
    "\n",
    "param_dist = {\"max_depth\": range(2,5),\n",
    "              \"min_samples_split\": sp_randint(2, 11),\n",
    "              \"min_samples_leaf\": sp_randint(1, 11),\n",
    "              \"bootstrap\": [True, False],\n",
    "              \"n_estimators\": [100, 400, 700, 1000, 1500],\n",
    "              \"criterion\" : [\"gini\", \"entropy\"],\n",
    "              'max_features': ['sqrt', 'log2', None]\n",
    "             }\n",
    "\n",
    "# Run randomized search\n",
    "random_search = RandomizedSearchCV(estimator=rf_clf, \n",
    "                                   param_distributions=param_dist,\n",
    "                                   n_iter=50,\n",
    "                                   n_jobs=-1)\n",
    "\n",
    "random_search.fit(X_train, y_train)\n"
   ]
  },
  {
   "cell_type": "code",
   "execution_count": 59,
   "id": "9d83694f",
   "metadata": {},
   "outputs": [],
   "source": [
    "# Predicting training and testing labels\n",
    "rscv_y_train_pred_count = random_search.predict(X_train)\n",
    "rscv_y_test_pred_count = random_search.predict(X_test)"
   ]
  },
  {
   "cell_type": "code",
   "execution_count": 60,
   "id": "e5bb4130",
   "metadata": {},
   "outputs": [
    {
     "name": "stdout",
     "output_type": "stream",
     "text": [
      "Accuracy score for test data is: 0.6259541984732825\n"
     ]
    }
   ],
   "source": [
    "print('Accuracy score for test data is:', accuracy_score(y_test,rscv_y_test_pred_count))"
   ]
  },
  {
   "cell_type": "code",
   "execution_count": 61,
   "id": "6337e54b",
   "metadata": {},
   "outputs": [
    {
     "name": "stdout",
     "output_type": "stream",
     "text": [
      "Accuracy score for train data is: 0.746641074856046\n"
     ]
    }
   ],
   "source": [
    "print('Accuracy score for train data is:', accuracy_score(y_train,rscv_y_train_pred_count))"
   ]
  },
  {
   "cell_type": "code",
   "execution_count": 62,
   "id": "c3b8acbb",
   "metadata": {},
   "outputs": [
    {
     "name": "stdout",
     "output_type": "stream",
     "text": [
      "              precision    recall  f1-score   support\n",
      "\n",
      "         0.0       0.80      0.65      0.72        78\n",
      "         1.0       0.63      0.56      0.59        48\n",
      "         2.0       0.18      1.00      0.30         3\n",
      "         3.0       0.14      0.50      0.22         2\n",
      "\n",
      "    accuracy                           0.63       131\n",
      "   macro avg       0.44      0.68      0.46       131\n",
      "weighted avg       0.71      0.63      0.66       131\n",
      "\n"
     ]
    }
   ],
   "source": [
    "print(classification_report(y_test,rscv_y_test_pred_count))"
   ]
  },
  {
   "cell_type": "code",
   "execution_count": 63,
   "id": "1cebd935",
   "metadata": {},
   "outputs": [
    {
     "name": "stdout",
     "output_type": "stream",
     "text": [
      "Precision Score : 0.6259541984732825\n",
      "Recall Score : 0.6259541984732825\n"
     ]
    }
   ],
   "source": [
    "print(\"Precision Score :\",precision_score(y_test,rscv_y_test_pred_count, average='micro'))\n",
    "print(\"Recall Score :\",recall_score(y_test,rscv_y_test_pred_count, average = 'micro'))"
   ]
  },
  {
   "cell_type": "markdown",
   "id": "090d93ea",
   "metadata": {},
   "source": [
    "<a name = Section12></a>\n",
    "### 12. K-Neighbors Classifier"
   ]
  },
  {
   "cell_type": "code",
   "execution_count": 64,
   "id": "053bbf87",
   "metadata": {},
   "outputs": [
    {
     "data": {
      "text/plain": [
       "KNeighborsClassifier()"
      ]
     },
     "execution_count": 64,
     "metadata": {},
     "output_type": "execute_result"
    }
   ],
   "source": [
    "from sklearn.neighbors import KNeighborsClassifier\n",
    "\n",
    "knc_clf = KNeighborsClassifier()\n",
    "\n",
    "knc_clf.fit(X_train, y_train)"
   ]
  },
  {
   "cell_type": "code",
   "execution_count": 65,
   "id": "46ce2a89",
   "metadata": {},
   "outputs": [],
   "source": [
    "knc_y_pred_train = knc_clf.predict(X_train)\n",
    "knc_y_pred_test = knc_clf.predict(X_test)"
   ]
  },
  {
   "cell_type": "code",
   "execution_count": 66,
   "id": "950bfc2e",
   "metadata": {},
   "outputs": [
    {
     "name": "stdout",
     "output_type": "stream",
     "text": [
      "Accuracy score for test data is: 0.44274809160305345\n"
     ]
    }
   ],
   "source": [
    "print('Accuracy score for test data is:', accuracy_score(y_test,knc_y_pred_test))"
   ]
  },
  {
   "cell_type": "code",
   "execution_count": 67,
   "id": "265eefa2",
   "metadata": {},
   "outputs": [
    {
     "name": "stdout",
     "output_type": "stream",
     "text": [
      "Accuracy score for train data is: 0.6257197696737045\n"
     ]
    }
   ],
   "source": [
    "print('Accuracy score for train data is:', accuracy_score(y_train,knc_y_pred_train))"
   ]
  },
  {
   "cell_type": "code",
   "execution_count": 68,
   "id": "0625bca6",
   "metadata": {},
   "outputs": [
    {
     "name": "stdout",
     "output_type": "stream",
     "text": [
      "              precision    recall  f1-score   support\n",
      "\n",
      "         0.0       0.54      0.53      0.53        78\n",
      "         1.0       0.31      0.35      0.33        48\n",
      "         2.0       0.00      0.00      0.00         3\n",
      "         3.0       0.00      0.00      0.00         2\n",
      "\n",
      "    accuracy                           0.44       131\n",
      "   macro avg       0.21      0.22      0.22       131\n",
      "weighted avg       0.44      0.44      0.44       131\n",
      "\n"
     ]
    }
   ],
   "source": [
    "print(classification_report(y_test,knc_y_pred_test))"
   ]
  },
  {
   "cell_type": "code",
   "execution_count": 69,
   "id": "6150d51b",
   "metadata": {},
   "outputs": [
    {
     "name": "stdout",
     "output_type": "stream",
     "text": [
      "Precision Score : 0.44274809160305345\n",
      "Recall Score : 0.44274809160305345\n"
     ]
    }
   ],
   "source": [
    "print(\"Precision Score :\",precision_score(y_test,knc_y_pred_test, average='micro'))\n",
    "print(\"Recall Score :\",recall_score(y_test,knc_y_pred_test, average = 'micro'))"
   ]
  },
  {
   "cell_type": "markdown",
   "id": "381b795d",
   "metadata": {},
   "source": [
    "<a name = Section13></a>\n",
    "### 13. Naive Bayes"
   ]
  },
  {
   "cell_type": "code",
   "execution_count": 70,
   "id": "74328134",
   "metadata": {},
   "outputs": [
    {
     "data": {
      "text/plain": [
       "GaussianNB()"
      ]
     },
     "execution_count": 70,
     "metadata": {},
     "output_type": "execute_result"
    }
   ],
   "source": [
    "from sklearn.naive_bayes import GaussianNB\n",
    "naive = GaussianNB()\n",
    "naive.fit(X_train, y_train)"
   ]
  },
  {
   "cell_type": "code",
   "execution_count": 71,
   "id": "72d774ac",
   "metadata": {},
   "outputs": [],
   "source": [
    "nb_y_train_pred_count = naive.predict(X_train)\n",
    "nb_y_test_pred_count = naive.predict(X_test)"
   ]
  },
  {
   "cell_type": "code",
   "execution_count": 72,
   "id": "dd368594",
   "metadata": {},
   "outputs": [
    {
     "name": "stdout",
     "output_type": "stream",
     "text": [
      "Accuracy score for test data is: 0.5343511450381679\n"
     ]
    }
   ],
   "source": [
    "print('Accuracy score for test data is:', accuracy_score(y_test,nb_y_test_pred_count))"
   ]
  },
  {
   "cell_type": "code",
   "execution_count": 73,
   "id": "32bcb59e",
   "metadata": {},
   "outputs": [
    {
     "name": "stdout",
     "output_type": "stream",
     "text": [
      "Accuracy score for train data is: 0.5201535508637236\n"
     ]
    }
   ],
   "source": [
    "print('Accuracy score for train data is:', accuracy_score(y_train,nb_y_train_pred_count))"
   ]
  },
  {
   "cell_type": "code",
   "execution_count": 74,
   "id": "a795df2f",
   "metadata": {},
   "outputs": [
    {
     "name": "stdout",
     "output_type": "stream",
     "text": [
      "              precision    recall  f1-score   support\n",
      "\n",
      "         0.0       0.59      0.76      0.66        78\n",
      "         1.0       0.35      0.23      0.28        48\n",
      "         2.0       0.00      0.00      0.00         3\n",
      "         3.0       0.00      0.00      0.00         2\n",
      "\n",
      "    accuracy                           0.53       131\n",
      "   macro avg       0.24      0.25      0.24       131\n",
      "weighted avg       0.48      0.53      0.50       131\n",
      "\n"
     ]
    }
   ],
   "source": [
    "print(classification_report(y_test,nb_y_test_pred_count))"
   ]
  },
  {
   "cell_type": "code",
   "execution_count": 75,
   "id": "47addaea",
   "metadata": {},
   "outputs": [
    {
     "name": "stdout",
     "output_type": "stream",
     "text": [
      "Precision Score : 0.5343511450381679\n",
      "Recall Score : 0.5343511450381679\n"
     ]
    }
   ],
   "source": [
    "print(\"Precision Score :\",precision_score(y_test,nb_y_test_pred_count, average='micro'))\n",
    "print(\"Recall Score :\",recall_score(y_test,nb_y_test_pred_count, average = 'micro'))"
   ]
  },
  {
   "cell_type": "markdown",
   "id": "f80a28a9",
   "metadata": {},
   "source": [
    "<a name = Section14></a>\n",
    "### 14. AUC and RUC Model Evaluation"
   ]
  },
  {
   "cell_type": "code",
   "execution_count": 76,
   "id": "57d55f51",
   "metadata": {},
   "outputs": [
    {
     "name": "stdout",
     "output_type": "stream",
     "text": [
      "Logistic Regression: ROC AUC=0.543\n",
      "Decision Tree: ROC AUC=0.818\n",
      "Random Forest ROC AUC=0.912\n",
      "Randomized Search CV ROC AUC=0.859\n",
      "K Neighbors ROC AUC=0.636\n",
      "Naive Bayes ROC AUC=0.517\n"
     ]
    }
   ],
   "source": [
    "from sklearn.metrics import roc_curve\n",
    "from sklearn.metrics import roc_auc_score\n",
    "\n",
    "\n",
    "# No Skill\n",
    "random_probs = [0 for i in range(len(y_test))]\n",
    "rp_fpr, rp_tpr, _ = roc_curve(y_test, random_probs, pos_label=1)\n",
    "\n",
    "# Logistic Regression\n",
    "lr_probs = model1.predict_proba(X_test)\n",
    "lr_auc = roc_auc_score(y_test, lr_probs, multi_class = 'ovr')\n",
    "print('Logistic Regression: ROC AUC=%.3f' % (lr_auc))\n",
    "lr_probs = lr_probs[:, 1]\n",
    "lr_fpr, lr_tpr, lr_threshold= roc_curve(y_test, lr_probs, pos_label = 1)\n",
    "\n",
    "\n",
    "# Decision Tree\n",
    "dt_probs = dt_model.predict_proba(X_test)\n",
    "dt_auc = roc_auc_score(y_test, dt_probs, multi_class = 'ovr')\n",
    "print('Decision Tree: ROC AUC=%.3f' % (dt_auc))\n",
    "dt_probs = dt_probs[:, 1]\n",
    "dt_fpr, dt_tpr, dt_threshold= roc_curve(y_test, dt_probs, pos_label = 1)\n",
    "\n",
    "# Random forest\n",
    "rf_probs = rf_clf.predict_proba(X_test)\n",
    "rf_auc = roc_auc_score(y_test, rf_probs, multi_class = 'ovr')\n",
    "print('Random Forest ROC AUC=%.3f' % (rf_auc))\n",
    "rf_probs = rf_probs[:, 1]\n",
    "rf_fpr, rf_tpr, rf_threshold= roc_curve(y_test, rf_probs, pos_label = 1)\n",
    "\n",
    "# Randomized Search CV\n",
    "rs_probs = random_search.predict_proba(X_test)\n",
    "rs_auc = roc_auc_score(y_test, rs_probs, multi_class = 'ovr')\n",
    "print('Randomized Search CV ROC AUC=%.3f' % (rs_auc))\n",
    "rs_probs = rs_probs[:, 1]\n",
    "rs_fpr, rs_tpr, rs_threshold= roc_curve(y_test, rs_probs, pos_label = 1)\n",
    "\n",
    "# K-Neighbors Classifier\n",
    "knc_clf_probs = knc_clf.predict_proba(X_test)\n",
    "\n",
    "knc_auc = roc_auc_score(y_test, knc_clf_probs, multi_class = 'ovr')\n",
    "print('K Neighbors ROC AUC=%.3f' % (knc_auc))\n",
    "knc_clf_probs = knc_clf_probs[:, 1]\n",
    "knc_fpr, knc_tpr, knc_threshold= roc_curve(y_test, knc_clf_probs, pos_label = 1)\n",
    "\n",
    "# Naive Bayes\n",
    "\n",
    "nb_probs = naive.predict_proba(X_test)\n",
    "nb_auc = roc_auc_score(y_test, nb_probs, multi_class = 'ovr')\n",
    "print('Naive Bayes ROC AUC=%.3f' % (nb_auc))\n",
    "nb_probs = nb_probs[:, 1]\n",
    "nb_fpr, nb_tpr, nb_threshold= roc_curve(y_test, nb_probs, pos_label = 1)"
   ]
  },
  {
   "cell_type": "code",
   "execution_count": 77,
   "id": "c486aecd",
   "metadata": {},
   "outputs": [
    {
     "data": {
      "image/png": "[encoded data removed]",
      "text/plain": [
       "<Figure size 1080x504 with 1 Axes>"
      ]
     },
     "metadata": {
      "needs_background": "light"
     },
     "output_type": "display_data"
    }
   ],
   "source": [
    "fig = plt.figure(figsize = (15,7))\n",
    "\n",
    "plt.plot(rp_fpr, rp_tpr, linestyle='--', color='blue', label = 'No Skill')\n",
    "plt.plot(lr_fpr, lr_tpr, marker='.', label='Logistic')\n",
    "plt.plot(dt_fpr, dt_tpr, marker='.', label='DecisionTree')\n",
    "plt.plot(rf_fpr, rf_tpr, marker='.', label='Random Forest')\n",
    "plt.plot(rs_fpr, rs_tpr, marker='.', label='Random Search CV')\n",
    "plt.plot(knc_fpr, knc_tpr, marker='.', label='K Neighbors')\n",
    "plt.plot(nb_fpr, nb_tpr, marker='.', label='Naive Bayes')\n",
    "\n",
    "plt.xlabel('False Positive Rate')\n",
    "plt.ylabel('True Positive Rate')\n",
    "plt.legend()\n",
    "plt.show()"
   ]
  },
  {
   "cell_type": "markdown",
   "id": "1646af8f",
   "metadata": {},
   "source": [
    "**Observations**\n",
    "\n",
    "- We can see that the AUC of Random Forest ROC is higher than the other algorithms. So, we can proceed using **Random forest** on our unseen data \n",
    "\n"
   ]
  },
  {
   "cell_type": "markdown",
   "id": "36cf6eea",
   "metadata": {},
   "source": [
    "<a id = Section15></a>\n",
    "## **15. Analysis on Unseen data**"
   ]
  },
  {
   "cell_type": "markdown",
   "id": "d7e7133c",
   "metadata": {},
   "source": [
    "- We are given the **Test Set**.\n",
    "\n",
    "- The Test Set parameters are,\n",
    "\n",
    "|Id|Parameter Name|Description|\n",
    "|:--|:--|:--|\n",
    "|01 | id\t               | Unique identifier |\n",
    "|02 | netural_venue        | Venue of the game. stadium 1: 0 and stadium 2: 1|\n",
    "|03 | team1                | Team 1 Encoded as Kolkata Superstars : 0 ,Chennai Strikers : 1, Bangalore Royals : 2 , Mumbai Lords : 3|\n",
    "|04 | team2                | Team 2 Encoded as Kolkata Superstars : 0 ,Chennai Strikers : 1, Bangalore Royals : 2 , Mumbai Lords : 3 |\n",
    "|05 | toss_winner          | Winner of the toss. Assuming Team is Encoded as Kolkata Superstars : 0 ,Chennai Strikers : 1, Bangalore Royals : 2 , Mumbai Lords : 3 |\n",
    "|06 | toss_decision        | Decision made by toss winning captain.  0 as Fielding and 1 as Batting | \n",
    "|07 | result_margin        | By How many runs the winning team won the match  |\n",
    "|08 | Day of week            | The day of the week encoded as Sunday:1, Monday:2, Tuesday:3, Wednesday:4, Thursday:5, Friday:6, Saturday:7 |\n",
    "|09 | Day of the month     | The day of the month |\n",
    "|10 | Month                | The month of the record. |\n",
    "|11 | Year                 | The year of the record |"
   ]
  },
  {
   "cell_type": "code",
   "execution_count": 78,
   "id": "956a06f3",
   "metadata": {},
   "outputs": [],
   "source": [
    "data_test = pd.read_csv(\"https://raw.githubusercontent.com/naveenmnav/INSAID-DPL-2022/main/Test_Data.csv\")"
   ]
  },
  {
   "cell_type": "code",
   "execution_count": 79,
   "id": "37491408",
   "metadata": {},
   "outputs": [
    {
     "data": {
      "text/html": [
       "<div>\n",
       "<style scoped>\n",
       "    .dataframe tbody tr th:only-of-type {\n",
       "        vertical-align: middle;\n",
       "    }\n",
       "\n",
       "    .dataframe tbody tr th {\n",
       "        vertical-align: top;\n",
       "    }\n",
       "\n",
       "    .dataframe thead th {\n",
       "        text-align: right;\n",
       "    }\n",
       "</style>\n",
       "<table border=\"1\" class=\"dataframe\">\n",
       "  <thead>\n",
       "    <tr style=\"text-align: right;\">\n",
       "      <th></th>\n",
       "      <th>id</th>\n",
       "      <th>neutral_venue</th>\n",
       "      <th>team1</th>\n",
       "      <th>team2</th>\n",
       "      <th>toss_winner</th>\n",
       "      <th>toss_decision</th>\n",
       "      <th>result_margin</th>\n",
       "      <th>Day_of_Week</th>\n",
       "      <th>Day_of_month</th>\n",
       "      <th>Month</th>\n",
       "      <th>Year</th>\n",
       "    </tr>\n",
       "  </thead>\n",
       "  <tbody>\n",
       "    <tr>\n",
       "      <th>count</th>\n",
       "      <td>1.640000e+02</td>\n",
       "      <td>164.000000</td>\n",
       "      <td>164.000000</td>\n",
       "      <td>164.000000</td>\n",
       "      <td>164.000000</td>\n",
       "      <td>164.000000</td>\n",
       "      <td>164.000000</td>\n",
       "      <td>164.000000</td>\n",
       "      <td>164.000000</td>\n",
       "      <td>164.000000</td>\n",
       "      <td>164.000000</td>\n",
       "    </tr>\n",
       "    <tr>\n",
       "      <th>mean</th>\n",
       "      <td>7.606386e+05</td>\n",
       "      <td>0.121951</td>\n",
       "      <td>0.682927</td>\n",
       "      <td>0.676829</td>\n",
       "      <td>0.615854</td>\n",
       "      <td>0.335366</td>\n",
       "      <td>18.121524</td>\n",
       "      <td>3.926829</td>\n",
       "      <td>16.365854</td>\n",
       "      <td>4.835366</td>\n",
       "      <td>2013.951220</td>\n",
       "    </tr>\n",
       "    <tr>\n",
       "      <th>std</th>\n",
       "      <td>3.065091e+05</td>\n",
       "      <td>0.328232</td>\n",
       "      <td>0.741050</td>\n",
       "      <td>0.654723</td>\n",
       "      <td>0.640163</td>\n",
       "      <td>0.473564</td>\n",
       "      <td>22.884391</td>\n",
       "      <td>2.172220</td>\n",
       "      <td>8.593066</td>\n",
       "      <td>1.579304</td>\n",
       "      <td>3.690154</td>\n",
       "    </tr>\n",
       "    <tr>\n",
       "      <th>min</th>\n",
       "      <td>3.359840e+05</td>\n",
       "      <td>0.000000</td>\n",
       "      <td>0.000000</td>\n",
       "      <td>0.000000</td>\n",
       "      <td>0.000000</td>\n",
       "      <td>0.000000</td>\n",
       "      <td>1.000000</td>\n",
       "      <td>1.000000</td>\n",
       "      <td>1.000000</td>\n",
       "      <td>3.000000</td>\n",
       "      <td>2008.000000</td>\n",
       "    </tr>\n",
       "    <tr>\n",
       "      <th>25%</th>\n",
       "      <td>5.012358e+05</td>\n",
       "      <td>0.000000</td>\n",
       "      <td>0.000000</td>\n",
       "      <td>0.000000</td>\n",
       "      <td>0.000000</td>\n",
       "      <td>0.000000</td>\n",
       "      <td>6.000000</td>\n",
       "      <td>2.000000</td>\n",
       "      <td>9.000000</td>\n",
       "      <td>4.000000</td>\n",
       "      <td>2011.000000</td>\n",
       "    </tr>\n",
       "    <tr>\n",
       "      <th>50%</th>\n",
       "      <td>7.316400e+05</td>\n",
       "      <td>0.000000</td>\n",
       "      <td>1.000000</td>\n",
       "      <td>1.000000</td>\n",
       "      <td>1.000000</td>\n",
       "      <td>0.000000</td>\n",
       "      <td>8.000000</td>\n",
       "      <td>4.000000</td>\n",
       "      <td>16.500000</td>\n",
       "      <td>4.000000</td>\n",
       "      <td>2014.000000</td>\n",
       "    </tr>\n",
       "    <tr>\n",
       "      <th>75%</th>\n",
       "      <td>1.082624e+06</td>\n",
       "      <td>0.000000</td>\n",
       "      <td>1.000000</td>\n",
       "      <td>1.000000</td>\n",
       "      <td>1.000000</td>\n",
       "      <td>1.000000</td>\n",
       "      <td>19.000000</td>\n",
       "      <td>6.000000</td>\n",
       "      <td>23.000000</td>\n",
       "      <td>5.000000</td>\n",
       "      <td>2017.000000</td>\n",
       "    </tr>\n",
       "    <tr>\n",
       "      <th>max</th>\n",
       "      <td>1.237180e+06</td>\n",
       "      <td>1.000000</td>\n",
       "      <td>3.000000</td>\n",
       "      <td>3.000000</td>\n",
       "      <td>2.000000</td>\n",
       "      <td>1.000000</td>\n",
       "      <td>138.000000</td>\n",
       "      <td>7.000000</td>\n",
       "      <td>31.000000</td>\n",
       "      <td>11.000000</td>\n",
       "      <td>2020.000000</td>\n",
       "    </tr>\n",
       "  </tbody>\n",
       "</table>\n",
       "</div>"
      ],
      "text/plain": [
       "                 id  neutral_venue       team1       team2  toss_winner  \\\n",
       "count  1.640000e+02     164.000000  164.000000  164.000000   164.000000   \n",
       "mean   7.606386e+05       0.121951    0.682927    0.676829     0.615854   \n",
       "std    3.065091e+05       0.328232    0.741050    0.654723     0.640163   \n",
       "min    3.359840e+05       0.000000    0.000000    0.000000     0.000000   \n",
       "25%    5.012358e+05       0.000000    0.000000    0.000000     0.000000   \n",
       "50%    7.316400e+05       0.000000    1.000000    1.000000     1.000000   \n",
       "75%    1.082624e+06       0.000000    1.000000    1.000000     1.000000   \n",
       "max    1.237180e+06       1.000000    3.000000    3.000000     2.000000   \n",
       "\n",
       "       toss_decision  result_margin  Day_of_Week  Day_of_month       Month  \\\n",
       "count     164.000000     164.000000   164.000000    164.000000  164.000000   \n",
       "mean        0.335366      18.121524     3.926829     16.365854    4.835366   \n",
       "std         0.473564      22.884391     2.172220      8.593066    1.579304   \n",
       "min         0.000000       1.000000     1.000000      1.000000    3.000000   \n",
       "25%         0.000000       6.000000     2.000000      9.000000    4.000000   \n",
       "50%         0.000000       8.000000     4.000000     16.500000    4.000000   \n",
       "75%         1.000000      19.000000     6.000000     23.000000    5.000000   \n",
       "max         1.000000     138.000000     7.000000     31.000000   11.000000   \n",
       "\n",
       "              Year  \n",
       "count   164.000000  \n",
       "mean   2013.951220  \n",
       "std       3.690154  \n",
       "min    2008.000000  \n",
       "25%    2011.000000  \n",
       "50%    2014.000000  \n",
       "75%    2017.000000  \n",
       "max    2020.000000  "
      ]
     },
     "execution_count": 79,
     "metadata": {},
     "output_type": "execute_result"
    }
   ],
   "source": [
    "data_test.describe()"
   ]
  },
  {
   "cell_type": "code",
   "execution_count": 80,
   "id": "d3aee909",
   "metadata": {},
   "outputs": [
    {
     "name": "stdout",
     "output_type": "stream",
     "text": [
      "<class 'pandas.core.frame.DataFrame'>\n",
      "RangeIndex: 164 entries, 0 to 163\n",
      "Data columns (total 11 columns):\n",
      " #   Column         Non-Null Count  Dtype  \n",
      "---  ------         --------------  -----  \n",
      " 0   id             164 non-null    int64  \n",
      " 1   neutral_venue  164 non-null    int64  \n",
      " 2   team1          164 non-null    int64  \n",
      " 3   team2          164 non-null    int64  \n",
      " 4   toss_winner    164 non-null    int64  \n",
      " 5   toss_decision  164 non-null    int64  \n",
      " 6   result_margin  164 non-null    float64\n",
      " 7   Day_of_Week    164 non-null    int64  \n",
      " 8   Day_of_month   164 non-null    int64  \n",
      " 9   Month          164 non-null    int64  \n",
      " 10  Year           164 non-null    int64  \n",
      "dtypes: float64(1), int64(10)\n",
      "memory usage: 14.2 KB\n"
     ]
    }
   ],
   "source": [
    "data_test.info()"
   ]
  },
  {
   "cell_type": "code",
   "execution_count": 81,
   "id": "cba90a19",
   "metadata": {},
   "outputs": [
    {
     "data": {
      "text/plain": [
       "id               0\n",
       "neutral_venue    0\n",
       "team1            0\n",
       "team2            0\n",
       "toss_winner      0\n",
       "toss_decision    0\n",
       "result_margin    0\n",
       "Day_of_Week      0\n",
       "Day_of_month     0\n",
       "Month            0\n",
       "Year             0\n",
       "dtype: int64"
      ]
     },
     "execution_count": 81,
     "metadata": {},
     "output_type": "execute_result"
    }
   ],
   "source": [
    "data_test.isnull().sum()"
   ]
  },
  {
   "cell_type": "code",
   "execution_count": 82,
   "id": "fd94aa99",
   "metadata": {},
   "outputs": [
    {
     "data": {
      "text/html": [
       "<div>\n",
       "<style scoped>\n",
       "    .dataframe tbody tr th:only-of-type {\n",
       "        vertical-align: middle;\n",
       "    }\n",
       "\n",
       "    .dataframe tbody tr th {\n",
       "        vertical-align: top;\n",
       "    }\n",
       "\n",
       "    .dataframe thead th {\n",
       "        text-align: right;\n",
       "    }\n",
       "</style>\n",
       "<table border=\"1\" class=\"dataframe\">\n",
       "  <thead>\n",
       "    <tr style=\"text-align: right;\">\n",
       "      <th></th>\n",
       "      <th>Null Frequency</th>\n",
       "      <th>Missing Percentage</th>\n",
       "    </tr>\n",
       "  </thead>\n",
       "  <tbody>\n",
       "    <tr>\n",
       "      <th>id</th>\n",
       "      <td>0</td>\n",
       "      <td>0.0</td>\n",
       "    </tr>\n",
       "    <tr>\n",
       "      <th>neutral_venue</th>\n",
       "      <td>0</td>\n",
       "      <td>0.0</td>\n",
       "    </tr>\n",
       "    <tr>\n",
       "      <th>team1</th>\n",
       "      <td>0</td>\n",
       "      <td>0.0</td>\n",
       "    </tr>\n",
       "    <tr>\n",
       "      <th>team2</th>\n",
       "      <td>0</td>\n",
       "      <td>0.0</td>\n",
       "    </tr>\n",
       "    <tr>\n",
       "      <th>toss_winner</th>\n",
       "      <td>0</td>\n",
       "      <td>0.0</td>\n",
       "    </tr>\n",
       "    <tr>\n",
       "      <th>toss_decision</th>\n",
       "      <td>0</td>\n",
       "      <td>0.0</td>\n",
       "    </tr>\n",
       "    <tr>\n",
       "      <th>result_margin</th>\n",
       "      <td>0</td>\n",
       "      <td>0.0</td>\n",
       "    </tr>\n",
       "    <tr>\n",
       "      <th>Day_of_Week</th>\n",
       "      <td>0</td>\n",
       "      <td>0.0</td>\n",
       "    </tr>\n",
       "    <tr>\n",
       "      <th>Day_of_month</th>\n",
       "      <td>0</td>\n",
       "      <td>0.0</td>\n",
       "    </tr>\n",
       "    <tr>\n",
       "      <th>Month</th>\n",
       "      <td>0</td>\n",
       "      <td>0.0</td>\n",
       "    </tr>\n",
       "    <tr>\n",
       "      <th>Year</th>\n",
       "      <td>0</td>\n",
       "      <td>0.0</td>\n",
       "    </tr>\n",
       "  </tbody>\n",
       "</table>\n",
       "</div>"
      ],
      "text/plain": [
       "               Null Frequency  Missing Percentage\n",
       "id                          0                 0.0\n",
       "neutral_venue               0                 0.0\n",
       "team1                       0                 0.0\n",
       "team2                       0                 0.0\n",
       "toss_winner                 0                 0.0\n",
       "toss_decision               0                 0.0\n",
       "result_margin               0                 0.0\n",
       "Day_of_Week                 0                 0.0\n",
       "Day_of_month                0                 0.0\n",
       "Month                       0                 0.0\n",
       "Year                        0                 0.0"
      ]
     },
     "execution_count": 82,
     "metadata": {},
     "output_type": "execute_result"
    }
   ],
   "source": [
    "unseen_null_frame = pd.DataFrame(index = data_test.columns.values)\n",
    "unseen_null_frame['Null Frequency'] = data_test.isnull().sum().values\n",
    "percent = data_test.isnull().sum().values/dataset.shape[0]\n",
    "unseen_null_frame['Missing Percentage'] = np.round(percent, decimals = 4) * 100\n",
    "unseen_null_frame"
   ]
  },
  {
   "cell_type": "markdown",
   "id": "18219d8a",
   "metadata": {},
   "source": [
    "<a id = Section16></a>\n",
    "## **16. Random Forest on Unseen Data**"
   ]
  },
  {
   "cell_type": "code",
   "execution_count": 83,
   "id": "738ffd33",
   "metadata": {},
   "outputs": [],
   "source": [
    "y_pred = rf_clf.predict(data_test)"
   ]
  },
  {
   "cell_type": "code",
   "execution_count": 84,
   "id": "7974ef53",
   "metadata": {},
   "outputs": [
    {
     "data": {
      "text/plain": [
       "array([1., 1., 0., 0., 1., 0., 1., 0., 1., 0., 0., 0., 0., 0., 0., 1., 0.,\n",
       "       0., 0., 1., 0., 0., 0., 1., 0., 0., 0., 1., 0., 0., 0., 0., 1., 0.,\n",
       "       2., 1., 0., 0., 1., 1., 1., 0., 0., 0., 1., 0., 0., 1., 1., 1., 0.,\n",
       "       1., 2., 1., 0., 1., 1., 1., 1., 0., 0., 0., 1., 1., 0., 0., 0., 1.,\n",
       "       0., 1., 1., 0., 0., 0., 1., 1., 1., 0., 1., 1., 2., 0., 0., 0., 1.,\n",
       "       1., 0., 0., 1., 0., 2., 0., 1., 0., 1., 1., 0., 0., 1., 0., 2., 0.,\n",
       "       1., 0., 1., 0., 1., 0., 1., 1., 1., 0., 0., 0., 0., 1., 0., 1., 0.,\n",
       "       1., 0., 0., 0., 0., 0., 1., 0., 1., 0., 1., 0., 0., 1., 0., 0., 0.,\n",
       "       1., 0., 0., 0., 1., 0., 1., 1., 1., 0., 0., 1., 1., 1., 1., 0., 2.,\n",
       "       1., 0., 1., 0., 2., 1., 1., 0., 0., 0., 1.])"
      ]
     },
     "execution_count": 84,
     "metadata": {},
     "output_type": "execute_result"
    }
   ],
   "source": [
    "y_pred"
   ]
  },
  {
   "cell_type": "code",
   "execution_count": 85,
   "id": "79f45618",
   "metadata": {},
   "outputs": [
    {
     "data": {
      "text/plain": [
       "(164,)"
      ]
     },
     "execution_count": 85,
     "metadata": {},
     "output_type": "execute_result"
    }
   ],
   "source": [
    "y_pred.shape"
   ]
  },
  {
   "cell_type": "code",
   "execution_count": 86,
   "id": "116ccea4",
   "metadata": {},
   "outputs": [],
   "source": [
    "y_pred_s = pd.Series(y_pred)"
   ]
  },
  {
   "cell_type": "code",
   "execution_count": 87,
   "id": "05e25628",
   "metadata": {},
   "outputs": [
    {
     "data": {
      "text/plain": [
       "0      1.0\n",
       "1      1.0\n",
       "2      0.0\n",
       "3      0.0\n",
       "4      1.0\n",
       "      ... \n",
       "159    1.0\n",
       "160    0.0\n",
       "161    0.0\n",
       "162    0.0\n",
       "163    1.0\n",
       "Length: 164, dtype: float64"
      ]
     },
     "execution_count": 87,
     "metadata": {},
     "output_type": "execute_result"
    }
   ],
   "source": [
    "y_pred_s"
   ]
  },
  {
   "cell_type": "code",
   "execution_count": 88,
   "id": "3b55ec92",
   "metadata": {},
   "outputs": [],
   "source": [
    "y_pred_df = pd.DataFrame(y_pred)"
   ]
  },
  {
   "cell_type": "code",
   "execution_count": 89,
   "id": "e2bd6c4c",
   "metadata": {},
   "outputs": [
    {
     "data": {
      "text/plain": [
       "0       501220\n",
       "1       548359\n",
       "2      1178424\n",
       "3       501251\n",
       "4       980949\n",
       "        ...   \n",
       "159     734019\n",
       "160    1216496\n",
       "161    1178394\n",
       "162    1136591\n",
       "163    1136598\n",
       "Name: id, Length: 164, dtype: int64"
      ]
     },
     "execution_count": 89,
     "metadata": {},
     "output_type": "execute_result"
    }
   ],
   "source": [
    "data_test['id']"
   ]
  },
  {
   "cell_type": "code",
   "execution_count": 90,
   "id": "68e0106e",
   "metadata": {},
   "outputs": [
    {
     "data": {
      "text/html": [
       "<div>\n",
       "<style scoped>\n",
       "    .dataframe tbody tr th:only-of-type {\n",
       "        vertical-align: middle;\n",
       "    }\n",
       "\n",
       "    .dataframe tbody tr th {\n",
       "        vertical-align: top;\n",
       "    }\n",
       "\n",
       "    .dataframe thead th {\n",
       "        text-align: right;\n",
       "    }\n",
       "</style>\n",
       "<table border=\"1\" class=\"dataframe\">\n",
       "  <thead>\n",
       "    <tr style=\"text-align: right;\">\n",
       "      <th></th>\n",
       "      <th>0</th>\n",
       "    </tr>\n",
       "  </thead>\n",
       "  <tbody>\n",
       "    <tr>\n",
       "      <th>0</th>\n",
       "      <td>1.0</td>\n",
       "    </tr>\n",
       "    <tr>\n",
       "      <th>1</th>\n",
       "      <td>1.0</td>\n",
       "    </tr>\n",
       "    <tr>\n",
       "      <th>2</th>\n",
       "      <td>0.0</td>\n",
       "    </tr>\n",
       "    <tr>\n",
       "      <th>3</th>\n",
       "      <td>0.0</td>\n",
       "    </tr>\n",
       "    <tr>\n",
       "      <th>4</th>\n",
       "      <td>1.0</td>\n",
       "    </tr>\n",
       "    <tr>\n",
       "      <th>...</th>\n",
       "      <td>...</td>\n",
       "    </tr>\n",
       "    <tr>\n",
       "      <th>159</th>\n",
       "      <td>1.0</td>\n",
       "    </tr>\n",
       "    <tr>\n",
       "      <th>160</th>\n",
       "      <td>0.0</td>\n",
       "    </tr>\n",
       "    <tr>\n",
       "      <th>161</th>\n",
       "      <td>0.0</td>\n",
       "    </tr>\n",
       "    <tr>\n",
       "      <th>162</th>\n",
       "      <td>0.0</td>\n",
       "    </tr>\n",
       "    <tr>\n",
       "      <th>163</th>\n",
       "      <td>1.0</td>\n",
       "    </tr>\n",
       "  </tbody>\n",
       "</table>\n",
       "<p>164 rows × 1 columns</p>\n",
       "</div>"
      ],
      "text/plain": [
       "       0\n",
       "0    1.0\n",
       "1    1.0\n",
       "2    0.0\n",
       "3    0.0\n",
       "4    1.0\n",
       "..   ...\n",
       "159  1.0\n",
       "160  0.0\n",
       "161  0.0\n",
       "162  0.0\n",
       "163  1.0\n",
       "\n",
       "[164 rows x 1 columns]"
      ]
     },
     "execution_count": 90,
     "metadata": {},
     "output_type": "execute_result"
    }
   ],
   "source": [
    "y_pred_df"
   ]
  },
  {
   "cell_type": "code",
   "execution_count": 91,
   "id": "38d62787",
   "metadata": {},
   "outputs": [],
   "source": [
    "submission = pd.DataFrame({'id':data_test['id'],'winner':y_pred_df[0]})"
   ]
  },
  {
   "cell_type": "code",
   "execution_count": 92,
   "id": "80ec51c3",
   "metadata": {},
   "outputs": [
    {
     "data": {
      "text/html": [
       "<div>\n",
       "<style scoped>\n",
       "    .dataframe tbody tr th:only-of-type {\n",
       "        vertical-align: middle;\n",
       "    }\n",
       "\n",
       "    .dataframe tbody tr th {\n",
       "        vertical-align: top;\n",
       "    }\n",
       "\n",
       "    .dataframe thead th {\n",
       "        text-align: right;\n",
       "    }\n",
       "</style>\n",
       "<table border=\"1\" class=\"dataframe\">\n",
       "  <thead>\n",
       "    <tr style=\"text-align: right;\">\n",
       "      <th></th>\n",
       "      <th>id</th>\n",
       "      <th>winner</th>\n",
       "    </tr>\n",
       "  </thead>\n",
       "  <tbody>\n",
       "    <tr>\n",
       "      <th>0</th>\n",
       "      <td>501220</td>\n",
       "      <td>1.0</td>\n",
       "    </tr>\n",
       "    <tr>\n",
       "      <th>1</th>\n",
       "      <td>548359</td>\n",
       "      <td>1.0</td>\n",
       "    </tr>\n",
       "    <tr>\n",
       "      <th>2</th>\n",
       "      <td>1178424</td>\n",
       "      <td>0.0</td>\n",
       "    </tr>\n",
       "    <tr>\n",
       "      <th>3</th>\n",
       "      <td>501251</td>\n",
       "      <td>0.0</td>\n",
       "    </tr>\n",
       "    <tr>\n",
       "      <th>4</th>\n",
       "      <td>980949</td>\n",
       "      <td>1.0</td>\n",
       "    </tr>\n",
       "    <tr>\n",
       "      <th>...</th>\n",
       "      <td>...</td>\n",
       "      <td>...</td>\n",
       "    </tr>\n",
       "    <tr>\n",
       "      <th>159</th>\n",
       "      <td>734019</td>\n",
       "      <td>1.0</td>\n",
       "    </tr>\n",
       "    <tr>\n",
       "      <th>160</th>\n",
       "      <td>1216496</td>\n",
       "      <td>0.0</td>\n",
       "    </tr>\n",
       "    <tr>\n",
       "      <th>161</th>\n",
       "      <td>1178394</td>\n",
       "      <td>0.0</td>\n",
       "    </tr>\n",
       "    <tr>\n",
       "      <th>162</th>\n",
       "      <td>1136591</td>\n",
       "      <td>0.0</td>\n",
       "    </tr>\n",
       "    <tr>\n",
       "      <th>163</th>\n",
       "      <td>1136598</td>\n",
       "      <td>1.0</td>\n",
       "    </tr>\n",
       "  </tbody>\n",
       "</table>\n",
       "<p>164 rows × 2 columns</p>\n",
       "</div>"
      ],
      "text/plain": [
       "          id  winner\n",
       "0     501220     1.0\n",
       "1     548359     1.0\n",
       "2    1178424     0.0\n",
       "3     501251     0.0\n",
       "4     980949     1.0\n",
       "..       ...     ...\n",
       "159   734019     1.0\n",
       "160  1216496     0.0\n",
       "161  1178394     0.0\n",
       "162  1136591     0.0\n",
       "163  1136598     1.0\n",
       "\n",
       "[164 rows x 2 columns]"
      ]
     },
     "execution_count": 92,
     "metadata": {},
     "output_type": "execute_result"
    }
   ],
   "source": [
    "submission"
   ]
  },
  {
   "cell_type": "code",
   "execution_count": 93,
   "id": "473f0398",
   "metadata": {},
   "outputs": [],
   "source": [
    "submission.to_csv('submission.csv')"
   ]
  },
  {
   "cell_type": "code",
   "execution_count": 96,
   "id": "4bc1dc51",
   "metadata": {},
   "outputs": [
    {
     "ename": "ValueError",
     "evalue": "Found input variables with inconsistent numbers of samples: [131, 164]",
     "output_type": "error",
     "traceback": [
      "\u001b[1;31m---------------------------------------------------------------------------\u001b[0m",
      "\u001b[1;31mValueError\u001b[0m                                Traceback (most recent call last)",
      "\u001b[1;32m~\\AppData\\Local\\Temp/ipykernel_1968/3258161014.py\u001b[0m in \u001b[0;36m<module>\u001b[1;34m\u001b[0m\n\u001b[0;32m      1\u001b[0m \u001b[0muns_rf_probs\u001b[0m \u001b[1;33m=\u001b[0m \u001b[0mrf_clf\u001b[0m\u001b[1;33m.\u001b[0m\u001b[0mpredict_proba\u001b[0m\u001b[1;33m(\u001b[0m\u001b[0mdata_test\u001b[0m\u001b[1;33m)\u001b[0m\u001b[1;33m\u001b[0m\u001b[1;33m\u001b[0m\u001b[0m\n\u001b[1;32m----> 2\u001b[1;33m \u001b[0muns_rf_auc\u001b[0m \u001b[1;33m=\u001b[0m \u001b[0mroc_auc_score\u001b[0m\u001b[1;33m(\u001b[0m\u001b[0my_test\u001b[0m\u001b[1;33m,\u001b[0m \u001b[0muns_rf_probs\u001b[0m\u001b[1;33m,\u001b[0m \u001b[0mmulti_class\u001b[0m \u001b[1;33m=\u001b[0m \u001b[1;34m'ovr'\u001b[0m\u001b[1;33m)\u001b[0m\u001b[1;33m\u001b[0m\u001b[1;33m\u001b[0m\u001b[0m\n\u001b[0m",
      "\u001b[1;32mc:\\users\\naveen\\appdata\\local\\programs\\python\\python37\\lib\\site-packages\\sklearn\\metrics\\_ranking.py\u001b[0m in \u001b[0;36mroc_auc_score\u001b[1;34m(y_true, y_score, average, sample_weight, max_fpr, multi_class, labels)\u001b[0m\n\u001b[0;32m    560\u001b[0m             \u001b[1;32mraise\u001b[0m \u001b[0mValueError\u001b[0m\u001b[1;33m(\u001b[0m\u001b[1;34m\"multi_class must be in ('ovo', 'ovr')\"\u001b[0m\u001b[1;33m)\u001b[0m\u001b[1;33m\u001b[0m\u001b[1;33m\u001b[0m\u001b[0m\n\u001b[0;32m    561\u001b[0m         return _multiclass_roc_auc_score(\n\u001b[1;32m--> 562\u001b[1;33m             \u001b[0my_true\u001b[0m\u001b[1;33m,\u001b[0m \u001b[0my_score\u001b[0m\u001b[1;33m,\u001b[0m \u001b[0mlabels\u001b[0m\u001b[1;33m,\u001b[0m \u001b[0mmulti_class\u001b[0m\u001b[1;33m,\u001b[0m \u001b[0maverage\u001b[0m\u001b[1;33m,\u001b[0m \u001b[0msample_weight\u001b[0m\u001b[1;33m\u001b[0m\u001b[1;33m\u001b[0m\u001b[0m\n\u001b[0m\u001b[0;32m    563\u001b[0m         )\n\u001b[0;32m    564\u001b[0m     \u001b[1;32melif\u001b[0m \u001b[0my_type\u001b[0m \u001b[1;33m==\u001b[0m \u001b[1;34m\"binary\"\u001b[0m\u001b[1;33m:\u001b[0m\u001b[1;33m\u001b[0m\u001b[1;33m\u001b[0m\u001b[0m\n",
      "\u001b[1;32mc:\\users\\naveen\\appdata\\local\\programs\\python\\python37\\lib\\site-packages\\sklearn\\metrics\\_ranking.py\u001b[0m in \u001b[0;36m_multiclass_roc_auc_score\u001b[1;34m(y_true, y_score, labels, multi_class, average, sample_weight)\u001b[0m\n\u001b[0;32m    688\u001b[0m             \u001b[0my_score\u001b[0m\u001b[1;33m,\u001b[0m\u001b[1;33m\u001b[0m\u001b[1;33m\u001b[0m\u001b[0m\n\u001b[0;32m    689\u001b[0m             \u001b[0maverage\u001b[0m\u001b[1;33m,\u001b[0m\u001b[1;33m\u001b[0m\u001b[1;33m\u001b[0m\u001b[0m\n\u001b[1;32m--> 690\u001b[1;33m             \u001b[0msample_weight\u001b[0m\u001b[1;33m=\u001b[0m\u001b[0msample_weight\u001b[0m\u001b[1;33m,\u001b[0m\u001b[1;33m\u001b[0m\u001b[1;33m\u001b[0m\u001b[0m\n\u001b[0m\u001b[0;32m    691\u001b[0m         )\n\u001b[0;32m    692\u001b[0m \u001b[1;33m\u001b[0m\u001b[0m\n",
      "\u001b[1;32mc:\\users\\naveen\\appdata\\local\\programs\\python\\python37\\lib\\site-packages\\sklearn\\metrics\\_base.py\u001b[0m in \u001b[0;36m_average_binary_score\u001b[1;34m(binary_metric, y_true, y_score, average, sample_weight)\u001b[0m\n\u001b[0;32m     75\u001b[0m         \u001b[1;32mreturn\u001b[0m \u001b[0mbinary_metric\u001b[0m\u001b[1;33m(\u001b[0m\u001b[0my_true\u001b[0m\u001b[1;33m,\u001b[0m \u001b[0my_score\u001b[0m\u001b[1;33m,\u001b[0m \u001b[0msample_weight\u001b[0m\u001b[1;33m=\u001b[0m\u001b[0msample_weight\u001b[0m\u001b[1;33m)\u001b[0m\u001b[1;33m\u001b[0m\u001b[1;33m\u001b[0m\u001b[0m\n\u001b[0;32m     76\u001b[0m \u001b[1;33m\u001b[0m\u001b[0m\n\u001b[1;32m---> 77\u001b[1;33m     \u001b[0mcheck_consistent_length\u001b[0m\u001b[1;33m(\u001b[0m\u001b[0my_true\u001b[0m\u001b[1;33m,\u001b[0m \u001b[0my_score\u001b[0m\u001b[1;33m,\u001b[0m \u001b[0msample_weight\u001b[0m\u001b[1;33m)\u001b[0m\u001b[1;33m\u001b[0m\u001b[1;33m\u001b[0m\u001b[0m\n\u001b[0m\u001b[0;32m     78\u001b[0m     \u001b[0my_true\u001b[0m \u001b[1;33m=\u001b[0m \u001b[0mcheck_array\u001b[0m\u001b[1;33m(\u001b[0m\u001b[0my_true\u001b[0m\u001b[1;33m)\u001b[0m\u001b[1;33m\u001b[0m\u001b[1;33m\u001b[0m\u001b[0m\n\u001b[0;32m     79\u001b[0m     \u001b[0my_score\u001b[0m \u001b[1;33m=\u001b[0m \u001b[0mcheck_array\u001b[0m\u001b[1;33m(\u001b[0m\u001b[0my_score\u001b[0m\u001b[1;33m)\u001b[0m\u001b[1;33m\u001b[0m\u001b[1;33m\u001b[0m\u001b[0m\n",
      "\u001b[1;32mc:\\users\\naveen\\appdata\\local\\programs\\python\\python37\\lib\\site-packages\\sklearn\\utils\\validation.py\u001b[0m in \u001b[0;36mcheck_consistent_length\u001b[1;34m(*arrays)\u001b[0m\n\u001b[0;32m    332\u001b[0m         raise ValueError(\n\u001b[0;32m    333\u001b[0m             \u001b[1;34m\"Found input variables with inconsistent numbers of samples: %r\"\u001b[0m\u001b[1;33m\u001b[0m\u001b[1;33m\u001b[0m\u001b[0m\n\u001b[1;32m--> 334\u001b[1;33m             \u001b[1;33m%\u001b[0m \u001b[1;33m[\u001b[0m\u001b[0mint\u001b[0m\u001b[1;33m(\u001b[0m\u001b[0ml\u001b[0m\u001b[1;33m)\u001b[0m \u001b[1;32mfor\u001b[0m \u001b[0ml\u001b[0m \u001b[1;32min\u001b[0m \u001b[0mlengths\u001b[0m\u001b[1;33m]\u001b[0m\u001b[1;33m\u001b[0m\u001b[1;33m\u001b[0m\u001b[0m\n\u001b[0m\u001b[0;32m    335\u001b[0m         )\n\u001b[0;32m    336\u001b[0m \u001b[1;33m\u001b[0m\u001b[0m\n",
      "\u001b[1;31mValueError\u001b[0m: Found input variables with inconsistent numbers of samples: [131, 164]"
     ]
    }
   ],
   "source": [
    "uns_rf_probs = rf_clf.predict_proba(data_test)\n",
    "uns_rf_auc = roc_auc_score(y_test, uns_rf_probs, multi_class = 'ovr')"
   ]
  },
  {
   "cell_type": "code",
   "execution_count": null,
   "id": "027cc40c",
   "metadata": {},
   "outputs": [],
   "source": []
  }
 ],
 "metadata": {
  "kernelspec": {
   "display_name": "Python 3 (ipykernel)",
   "language": "python",
   "name": "python3"
  },
  "language_info": {
   "codemirror_mode": {
    "name": "ipython",
    "version": 3
   },
   "file_extension": ".py",
   "mimetype": "text/x-python",
   "name": "python",
   "nbconvert_exporter": "python",
   "pygments_lexer": "ipython3",
   "version": "3.7.8"
  }
 },
 "nbformat": 4,
 "nbformat_minor": 5
}
